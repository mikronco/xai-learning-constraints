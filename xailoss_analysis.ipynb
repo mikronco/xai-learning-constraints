{
 "cells": [
  {
   "cell_type": "code",
   "execution_count": 1,
   "id": "54b98347",
   "metadata": {},
   "outputs": [],
   "source": [
    "import numpy as np\n",
    "import torch\n",
    "from torch.nn import Module\n",
    "from metrics.metrics import accuracy, MoRF, faithfulness, complexity\n",
    "from loaders.mnist_loader import MNIST_data\n",
    "import matplotlib.pyplot as plt\n",
    "from models.mnist_cnn import CNN3b, CNN4b\n",
    "from captum.attr import Saliency"
   ]
  },
  {
   "cell_type": "code",
   "execution_count": 2,
   "id": "d612b3e4",
   "metadata": {},
   "outputs": [
    {
     "name": "stdout",
     "output_type": "stream",
     "text": [
      "CUDA Available:  True\n"
     ]
    }
   ],
   "source": [
    "print(\"CUDA Available: \",torch.cuda.is_available())\n",
    "use_cuda=True\n",
    "device = torch.device(\"cuda\" if (use_cuda and torch.cuda.is_available()) else \"cpu\")"
   ]
  },
  {
   "cell_type": "code",
   "execution_count": 3,
   "id": "c508d337",
   "metadata": {},
   "outputs": [],
   "source": [
    "loaders = MNIST_data(batch_size = 60)"
   ]
  },
  {
   "cell_type": "code",
   "execution_count": 4,
   "id": "fe24f794",
   "metadata": {},
   "outputs": [
    {
     "data": {
      "text/plain": [
       "CNN3b(\n",
       "  (conv1): Sequential(\n",
       "    (0): Conv2d(1, 8, kernel_size=(5, 5), stride=(1, 1), padding=(2, 2))\n",
       "    (1): ReLU()\n",
       "    (2): MaxPool2d(kernel_size=2, stride=2, padding=0, dilation=1, ceil_mode=False)\n",
       "  )\n",
       "  (conv2): Sequential(\n",
       "    (0): Conv2d(8, 16, kernel_size=(5, 5), stride=(1, 1), padding=(2, 2))\n",
       "    (1): ReLU()\n",
       "    (2): MaxPool2d(kernel_size=2, stride=2, padding=0, dilation=1, ceil_mode=False)\n",
       "  )\n",
       "  (out): Linear(in_features=784, out_features=10, bias=True)\n",
       ")"
      ]
     },
     "execution_count": 4,
     "metadata": {},
     "output_type": "execute_result"
    }
   ],
   "source": [
    "bmodel = torch.load(r\"C:\\Users\\unknown\\Desktop\\xai_projects\\xai-learning-constraints\\results\\simple_cnn_9891.pt\")\n",
    "bmodel.eval()"
   ]
  },
  {
   "cell_type": "code",
   "execution_count": 5,
   "id": "417a1bd3",
   "metadata": {},
   "outputs": [
    {
     "data": {
      "text/plain": [
       "CNN3b(\n",
       "  (conv1): Sequential(\n",
       "    (0): Conv2d(1, 8, kernel_size=(5, 5), stride=(1, 1), padding=(2, 2))\n",
       "    (1): ReLU()\n",
       "    (2): MaxPool2d(kernel_size=2, stride=2, padding=0, dilation=1, ceil_mode=False)\n",
       "  )\n",
       "  (conv2): Sequential(\n",
       "    (0): Conv2d(8, 16, kernel_size=(5, 5), stride=(1, 1), padding=(2, 2))\n",
       "    (1): ReLU()\n",
       "    (2): MaxPool2d(kernel_size=2, stride=2, padding=0, dilation=1, ceil_mode=False)\n",
       "  )\n",
       "  (out): Linear(in_features=784, out_features=10, bias=True)\n",
       ")"
      ]
     },
     "execution_count": 5,
     "metadata": {},
     "output_type": "execute_result"
    }
   ],
   "source": [
    "fmodel = torch.load(r\"C:\\Users\\unknown\\Desktop\\xai_projects\\xai-learning-constraints\\results\\simple_cnn_fid_9864.pt\")\n",
    "fmodel.eval()"
   ]
  },
  {
   "cell_type": "code",
   "execution_count": 6,
   "id": "56c36631",
   "metadata": {},
   "outputs": [
    {
     "data": {
      "text/plain": [
       "CNN3b(\n",
       "  (conv1): Sequential(\n",
       "    (0): Conv2d(1, 8, kernel_size=(5, 5), stride=(1, 1), padding=(2, 2))\n",
       "    (1): ReLU()\n",
       "    (2): MaxPool2d(kernel_size=2, stride=2, padding=0, dilation=1, ceil_mode=False)\n",
       "  )\n",
       "  (conv2): Sequential(\n",
       "    (0): Conv2d(8, 16, kernel_size=(5, 5), stride=(1, 1), padding=(2, 2))\n",
       "    (1): ReLU()\n",
       "    (2): MaxPool2d(kernel_size=2, stride=2, padding=0, dilation=1, ceil_mode=False)\n",
       "  )\n",
       "  (out): Linear(in_features=784, out_features=10, bias=True)\n",
       ")"
      ]
     },
     "execution_count": 6,
     "metadata": {},
     "output_type": "execute_result"
    }
   ],
   "source": [
    "rmodel = torch.load(r\"C:\\Users\\unknown\\Desktop\\xai_projects\\xai-learning-constraints\\results\\simple_cnn_greg_9869.pt\")\n",
    "rmodel.eval()"
   ]
  },
  {
   "cell_type": "code",
   "execution_count": 7,
   "id": "9a09c38e",
   "metadata": {},
   "outputs": [
    {
     "data": {
      "text/plain": [
       "CNN3b(\n",
       "  (conv1): Sequential(\n",
       "    (0): Conv2d(1, 8, kernel_size=(5, 5), stride=(1, 1), padding=(2, 2))\n",
       "    (1): ReLU()\n",
       "    (2): MaxPool2d(kernel_size=2, stride=2, padding=0, dilation=1, ceil_mode=False)\n",
       "  )\n",
       "  (conv2): Sequential(\n",
       "    (0): Conv2d(8, 16, kernel_size=(5, 5), stride=(1, 1), padding=(2, 2))\n",
       "    (1): ReLU()\n",
       "    (2): MaxPool2d(kernel_size=2, stride=2, padding=0, dilation=1, ceil_mode=False)\n",
       "  )\n",
       "  (out): Linear(in_features=784, out_features=10, bias=True)\n",
       ")"
      ]
     },
     "execution_count": 7,
     "metadata": {},
     "output_type": "execute_result"
    }
   ],
   "source": [
    "lmodel = torch.load(r\"C:\\Users\\unknown\\Desktop\\xai_projects\\xai-learning-constraints\\results\\simple_cnn_loc_9717.pt\")\n",
    "lmodel.eval()"
   ]
  },
  {
   "cell_type": "code",
   "execution_count": 8,
   "id": "2585a454",
   "metadata": {},
   "outputs": [
    {
     "data": {
      "text/plain": [
       "CNN3b(\n",
       "  (conv1): Sequential(\n",
       "    (0): Conv2d(1, 8, kernel_size=(5, 5), stride=(1, 1), padding=(2, 2))\n",
       "    (1): ReLU()\n",
       "    (2): MaxPool2d(kernel_size=2, stride=2, padding=0, dilation=1, ceil_mode=False)\n",
       "  )\n",
       "  (conv2): Sequential(\n",
       "    (0): Conv2d(8, 16, kernel_size=(5, 5), stride=(1, 1), padding=(2, 2))\n",
       "    (1): ReLU()\n",
       "    (2): MaxPool2d(kernel_size=2, stride=2, padding=0, dilation=1, ceil_mode=False)\n",
       "  )\n",
       "  (out): Linear(in_features=784, out_features=10, bias=True)\n",
       ")"
      ]
     },
     "execution_count": 8,
     "metadata": {},
     "output_type": "execute_result"
    }
   ],
   "source": [
    "cmodel = torch.load(r\"C:\\Users\\unknown\\Desktop\\xai_projects\\xai-learning-constraints\\results\\simple_cnn_cons_989.pt\")\n",
    "cmodel.eval()"
   ]
  },
  {
   "cell_type": "code",
   "execution_count": 17,
   "id": "f41c9dd6",
   "metadata": {},
   "outputs": [],
   "source": [
    "perc = list(sorted(np.linspace(0, 100, num=10).astype(int), reverse=True))"
   ]
  },
  {
   "cell_type": "code",
   "execution_count": 18,
   "id": "d380bac1",
   "metadata": {},
   "outputs": [
    {
     "name": "stderr",
     "output_type": "stream",
     "text": [
      "C:\\Users\\unknown\\Anaconda3\\envs\\xai4uc3\\lib\\site-packages\\captum\\_utils\\gradient.py:58: UserWarning: Input Tensor 0 did not already require gradients, required_grads has been set automatically.\n",
      "  \"required_grads has been set automatically.\" % index\n",
      "C:\\Users\\unknown\\Desktop\\xai_projects\\xai-learning-constraints\\metrics\\metrics.py:60: UserWarning: Implicit dimension choice for softmax has been deprecated. Change the call to include dim=X as an argument.\n",
      "  d = softm(model(images.cuda()*maskpos.cuda())).cpu().detach().numpy()[0,torch.argmax(softm(model(images.cuda())))]/torch.max(softm(model(images.cuda()))).cpu().detach().numpy()\n"
     ]
    }
   ],
   "source": [
    "bfdrop = MoRF(fmodel, loaders, perc, model_attr=bmodel)"
   ]
  },
  {
   "cell_type": "code",
   "execution_count": 19,
   "id": "62f9e4df",
   "metadata": {},
   "outputs": [],
   "source": [
    "bcdrop = MoRF(cmodel, loaders, perc, model_attr=bmodel)"
   ]
  },
  {
   "cell_type": "code",
   "execution_count": 20,
   "id": "36d8758b",
   "metadata": {},
   "outputs": [],
   "source": [
    "bldrop = MoRF(lmodel, loaders, perc, model_attr=bmodel)"
   ]
  },
  {
   "cell_type": "code",
   "execution_count": 21,
   "id": "cd665a75",
   "metadata": {},
   "outputs": [],
   "source": [
    "brdrop = MoRF(rmodel, loaders, perc, model_attr=bmodel)"
   ]
  },
  {
   "cell_type": "code",
   "execution_count": 27,
   "id": "4b4120a0",
   "metadata": {},
   "outputs": [
    {
     "data": {
      "image/png": "[encoded data removed]",
      "text/plain": [
       "<Figure size 432x288 with 1 Axes>"
      ]
     },
     "metadata": {
      "needs_background": "light"
     },
     "output_type": "display_data"
    }
   ],
   "source": [
    "plt.plot(1-np.array(perc)/100, 1-fbdrop, label=\"base\")\n",
    "plt.plot(1-np.array(perc)/100, 1-fldrop, label=\"loc\")\n",
    "#plt.plot(1-np.array(perc)/100, 1-frdrop, label=\"grad reg\")\n",
    "plt.plot(1-np.array(perc)/100, 1-fcdrop, label=\"cons\")\n",
    "plt.legend()\n",
    "#plt.savefig(r\"C:\\Users\\unknown\\Desktop\\xai_projects\\xai-learning-constraints\\results\\MoRF_curve_fidattr.png\")\n",
    "plt.show()"
   ]
  },
  {
   "cell_type": "code",
   "execution_count": null,
   "id": "e02a9e61",
   "metadata": {},
   "outputs": [],
   "source": []
  },
  {
   "cell_type": "code",
   "execution_count": 18,
   "id": "d7098967",
   "metadata": {},
   "outputs": [
    {
     "name": "stderr",
     "output_type": "stream",
     "text": [
      "C:\\Users\\unknown\\Anaconda3\\envs\\xai4uc3\\lib\\site-packages\\captum\\_utils\\gradient.py:58: UserWarning: Input Tensor 0 did not already require gradients, required_grads has been set automatically.\n",
      "  \"required_grads has been set automatically.\" % index\n",
      "C:\\Users\\unknown\\Desktop\\xai_projects\\xai-learning-constraints\\metrics\\metrics.py:77: UserWarning: Implicit dimension choice for softmax has been deprecated. Change the call to include dim=X as an argument.\n",
      "  diffpred[j] = softm(model(images)).squeeze()[labels].item() - softm(model(maskpos*images)).squeeze()[labels].item()\n"
     ]
    }
   ],
   "source": [
    "lcorr = faithfulness(lmodel, loaders, perc)"
   ]
  },
  {
   "cell_type": "code",
   "execution_count": 8,
   "id": "7c6d962e",
   "metadata": {},
   "outputs": [],
   "source": [
    "bcorr = faithfulness(bmodel, loaders, perc)"
   ]
  },
  {
   "cell_type": "code",
   "execution_count": 36,
   "id": "dc5b6d36",
   "metadata": {},
   "outputs": [
    {
     "name": "stderr",
     "output_type": "stream",
     "text": [
      "C:\\Users\\unknown\\Anaconda3\\envs\\xai4uc3\\lib\\site-packages\\captum\\_utils\\gradient.py:58: UserWarning: Input Tensor 0 did not already require gradients, required_grads has been set automatically.\n",
      "  \"required_grads has been set automatically.\" % index\n",
      "C:\\Users\\unknown\\Desktop\\xai_projects\\xai-learning-constraints\\metrics\\metrics.py:77: UserWarning: Implicit dimension choice for softmax has been deprecated. Change the call to include dim=X as an argument.\n",
      "  diffpred[j] = softm(model(images)).squeeze()[labels].item() - softm(model(maskpos*images)).squeeze()[labels].item()\n"
     ]
    }
   ],
   "source": [
    "rcorr = faithfulness(rmodel, loaders, perc)"
   ]
  },
  {
   "cell_type": "code",
   "execution_count": 16,
   "id": "687e6b1b",
   "metadata": {},
   "outputs": [
    {
     "name": "stderr",
     "output_type": "stream",
     "text": [
      "C:\\Users\\unknown\\Anaconda3\\envs\\xai4uc3\\lib\\site-packages\\captum\\_utils\\gradient.py:58: UserWarning: Input Tensor 0 did not already require gradients, required_grads has been set automatically.\n",
      "  \"required_grads has been set automatically.\" % index\n",
      "C:\\Users\\unknown\\Desktop\\xai_projects\\xai-learning-constraints\\metrics\\metrics.py:55: UserWarning: Implicit dimension choice for softmax has been deprecated. Change the call to include dim=X as an argument.\n",
      "  d = softm(model(images.cuda()*maskpos.cuda())).cpu().detach().numpy()[0,torch.argmax(softm(model(images.cuda())))]/torch.max(softm(model(images.cuda()))).cpu().detach().numpy()\n"
     ]
    }
   ],
   "source": [
    "ldrop = MoRF(lmodel, loaders, perc)"
   ]
  },
  {
   "cell_type": "code",
   "execution_count": 35,
   "id": "e021312c",
   "metadata": {},
   "outputs": [
    {
     "data": {
      "image/png": "[encoded data removed]",
      "text/plain": [
       "<Figure size 432x288 with 1 Axes>"
      ]
     },
     "metadata": {
      "needs_background": "light"
     },
     "output_type": "display_data"
    }
   ],
   "source": [
    "plt.plot(1-np.array(perc)/100, 1-bdrop, label=\"base\")\n",
    "plt.plot(1-np.array(perc)/100, 1-fdrop, label=\"fid\")\n",
    "plt.plot(1-np.array(perc)/100, 1-ldrop, label=\"loc\")\n",
    "plt.plot(1-np.array(perc)/100, 1-rdrop, label=\"grad reg\")\n",
    "plt.savefig(r\"C:\\Users\\unknown\\Desktop\\xai_projects\\xai-learning-constraints\\results\\MoRF_curve_simplecnn.png\")\n",
    "plt.legend()\n",
    "plt.show()"
   ]
  },
  {
   "cell_type": "code",
   "execution_count": 37,
   "id": "992c283a",
   "metadata": {},
   "outputs": [
    {
     "data": {
      "image/png": "[encoded data removed]",
      "text/plain": [
       "<Figure size 432x288 with 1 Axes>"
      ]
     },
     "metadata": {
      "needs_background": "light"
     },
     "output_type": "display_data"
    }
   ],
   "source": [
    "plt.hist(bcorr, bins=50, label=\"base\")\n",
    "plt.hist(fcorr, bins=50, alpha = 0.4, label=\"fid\")\n",
    "plt.hist(lcorr, bins=50, alpha = 0.4, label=\"loc\")\n",
    "plt.hist(rcorr, bins=50, alpha = 0.4, label=\"grad reg\")\n",
    "plt.legend()\n",
    "plt.show()"
   ]
  },
  {
   "cell_type": "code",
   "execution_count": 38,
   "id": "1124ce09",
   "metadata": {},
   "outputs": [
    {
     "data": {
      "text/plain": [
       "0.8800388973474769"
      ]
     },
     "execution_count": 38,
     "metadata": {},
     "output_type": "execute_result"
    }
   ],
   "source": [
    "np.mean(rcorr)"
   ]
  },
  {
   "cell_type": "code",
   "execution_count": 21,
   "id": "d03e7908",
   "metadata": {},
   "outputs": [
    {
     "data": {
      "text/plain": [
       "0.8334066474865722"
      ]
     },
     "execution_count": 21,
     "metadata": {},
     "output_type": "execute_result"
    }
   ],
   "source": [
    "np.mean(bcorr)"
   ]
  },
  {
   "cell_type": "code",
   "execution_count": 20,
   "id": "739ec218",
   "metadata": {},
   "outputs": [
    {
     "data": {
      "text/plain": [
       "0.827381408064444"
      ]
     },
     "execution_count": 20,
     "metadata": {},
     "output_type": "execute_result"
    }
   ],
   "source": [
    "np.mean(lcorr)"
   ]
  },
  {
   "cell_type": "code",
   "execution_count": 10,
   "id": "07b74d67",
   "metadata": {},
   "outputs": [
    {
     "data": {
      "text/plain": [
       "0.829005740203615"
      ]
     },
     "execution_count": 10,
     "metadata": {},
     "output_type": "execute_result"
    }
   ],
   "source": [
    "np.mean(fcorr)"
   ]
  },
  {
   "cell_type": "code",
   "execution_count": 14,
   "id": "be10d56b",
   "metadata": {},
   "outputs": [],
   "source": [
    "perc = list(sorted(np.linspace(0, 100, num=10).astype(int), reverse=True))"
   ]
  },
  {
   "cell_type": "code",
   "execution_count": 18,
   "id": "ab6915b8",
   "metadata": {},
   "outputs": [
    {
     "name": "stderr",
     "output_type": "stream",
     "text": [
      "C:\\Users\\unknown\\Anaconda3\\envs\\xai4uc3\\lib\\site-packages\\captum\\_utils\\gradient.py:58: UserWarning: Input Tensor 0 did not already require gradients, required_grads has been set automatically.\n",
      "  \"required_grads has been set automatically.\" % index\n",
      "C:\\Users\\unknown\\Desktop\\xai_projects\\xai-learning-constraints\\metrics\\metrics.py:77: UserWarning: Implicit dimension choice for softmax has been deprecated. Change the call to include dim=X as an argument.\n",
      "  diffpred[j] = softm(model(images)).squeeze()[labels].item() - softm(model(maskpos*images)).squeeze()[labels].item()\n"
     ]
    }
   ],
   "source": [
    "fcorr = faithfulness(fmodel, loaders, perc)"
   ]
  },
  {
   "cell_type": "code",
   "execution_count": 19,
   "id": "9a6bf04b",
   "metadata": {},
   "outputs": [
    {
     "data": {
      "text/plain": [
       "0.7985592364052061"
      ]
     },
     "execution_count": 19,
     "metadata": {},
     "output_type": "execute_result"
    }
   ],
   "source": [
    "np.mean(fcorr)"
   ]
  },
  {
   "cell_type": "code",
   "execution_count": 20,
   "id": "2c0367b5",
   "metadata": {},
   "outputs": [],
   "source": [
    "gcorr = faithfulness(gmodel, loaders, perc)"
   ]
  },
  {
   "cell_type": "code",
   "execution_count": 21,
   "id": "69f3e776",
   "metadata": {},
   "outputs": [
    {
     "data": {
      "text/plain": [
       "0.7148592062828361"
      ]
     },
     "execution_count": 21,
     "metadata": {},
     "output_type": "execute_result"
    }
   ],
   "source": [
    "np.mean(gcorr)"
   ]
  },
  {
   "cell_type": "code",
   "execution_count": 22,
   "id": "b36cffc5",
   "metadata": {},
   "outputs": [],
   "source": [
    "bcorr = faithfulness(bmodel, loaders, perc)"
   ]
  },
  {
   "cell_type": "code",
   "execution_count": 23,
   "id": "1d854479",
   "metadata": {},
   "outputs": [
    {
     "data": {
      "text/plain": [
       "0.8377867408986662"
      ]
     },
     "execution_count": 23,
     "metadata": {},
     "output_type": "execute_result"
    }
   ],
   "source": [
    "np.mean(bcorr)"
   ]
  },
  {
   "cell_type": "code",
   "execution_count": 24,
   "id": "461e3894",
   "metadata": {},
   "outputs": [],
   "source": [
    "rcorr = faithfulness(rmodel, loaders, perc)"
   ]
  },
  {
   "cell_type": "code",
   "execution_count": 25,
   "id": "63558331",
   "metadata": {},
   "outputs": [
    {
     "data": {
      "text/plain": [
       "0.8690940702463286"
      ]
     },
     "execution_count": 25,
     "metadata": {},
     "output_type": "execute_result"
    }
   ],
   "source": [
    "np.mean(rcorr)"
   ]
  },
  {
   "cell_type": "code",
   "execution_count": 26,
   "id": "519948e5",
   "metadata": {},
   "outputs": [],
   "source": [
    "ccorr = faithfulness(cmodel, loaders, perc)"
   ]
  },
  {
   "cell_type": "code",
   "execution_count": 28,
   "id": "c202b2f6",
   "metadata": {},
   "outputs": [
    {
     "data": {
      "text/plain": [
       "0.857923305299248"
      ]
     },
     "execution_count": 28,
     "metadata": {},
     "output_type": "execute_result"
    }
   ],
   "source": [
    "np.mean(ccorr)"
   ]
  },
  {
   "cell_type": "code",
   "execution_count": 26,
   "id": "a9120fdb",
   "metadata": {},
   "outputs": [
    {
     "name": "stderr",
     "output_type": "stream",
     "text": [
      "C:\\Users\\unknown\\Anaconda3\\envs\\xai4uc3\\lib\\site-packages\\captum\\_utils\\gradient.py:58: UserWarning: Input Tensor 0 did not already require gradients, required_grads has been set automatically.\n",
      "  \"required_grads has been set automatically.\" % index\n"
     ]
    }
   ],
   "source": [
    "fcomp = complexity(fmodel, loaders)"
   ]
  },
  {
   "cell_type": "code",
   "execution_count": 28,
   "id": "4abd1f85",
   "metadata": {},
   "outputs": [
    {
     "data": {
      "text/plain": [
       "4.360434532165527"
      ]
     },
     "execution_count": 28,
     "metadata": {},
     "output_type": "execute_result"
    }
   ],
   "source": [
    "fcomp"
   ]
  },
  {
   "cell_type": "code",
   "execution_count": 29,
   "id": "b32c6dec",
   "metadata": {},
   "outputs": [],
   "source": [
    "lcomp = complexity(lmodel, loaders)"
   ]
  },
  {
   "cell_type": "code",
   "execution_count": 30,
   "id": "d47979c6",
   "metadata": {},
   "outputs": [
    {
     "data": {
      "text/plain": [
       "3.9131202697753906"
      ]
     },
     "execution_count": 30,
     "metadata": {},
     "output_type": "execute_result"
    }
   ],
   "source": [
    "lcomp"
   ]
  },
  {
   "cell_type": "code",
   "execution_count": 33,
   "id": "9e07959b",
   "metadata": {},
   "outputs": [],
   "source": [
    "bcomp = complexity(bmodel, loaders)"
   ]
  },
  {
   "cell_type": "code",
   "execution_count": 34,
   "id": "e31834cd",
   "metadata": {},
   "outputs": [
    {
     "data": {
      "text/plain": [
       "4.388871192932129"
      ]
     },
     "execution_count": 34,
     "metadata": {},
     "output_type": "execute_result"
    }
   ],
   "source": [
    "bcomp"
   ]
  },
  {
   "cell_type": "code",
   "execution_count": 35,
   "id": "3b005b0d",
   "metadata": {},
   "outputs": [],
   "source": [
    "ccomp = complexity(cmodel, loaders)"
   ]
  },
  {
   "cell_type": "code",
   "execution_count": 36,
   "id": "7e6721ec",
   "metadata": {},
   "outputs": [
    {
     "data": {
      "text/plain": [
       "4.362151145935059"
      ]
     },
     "execution_count": 36,
     "metadata": {},
     "output_type": "execute_result"
    }
   ],
   "source": [
    "ccomp"
   ]
  },
  {
   "cell_type": "code",
   "execution_count": 37,
   "id": "0050b5f7",
   "metadata": {},
   "outputs": [],
   "source": [
    "rcomp = complexity(rmodel, loaders)"
   ]
  },
  {
   "cell_type": "code",
   "execution_count": 38,
   "id": "7550ff7e",
   "metadata": {},
   "outputs": [
    {
     "data": {
      "text/plain": [
       "4.332955837249756"
      ]
     },
     "execution_count": 38,
     "metadata": {},
     "output_type": "execute_result"
    }
   ],
   "source": [
    "rcomp"
   ]
  },
  {
   "cell_type": "code",
   "execution_count": 34,
   "id": "409de0bd",
   "metadata": {},
   "outputs": [
    {
     "name": "stderr",
     "output_type": "stream",
     "text": [
      "C:\\Users\\unknown\\Desktop\\xai_projects\\xai-learning-constraints\\metrics\\metrics.py:55: UserWarning: Implicit dimension choice for softmax has been deprecated. Change the call to include dim=X as an argument.\n",
      "  d = softm(model(images.cuda()*maskpos.cuda())).cpu().detach().numpy()[0,torch.argmax(softm(model(images.cuda())))]/torch.max(softm(model(images.cuda()))).cpu().detach().numpy()\n"
     ]
    }
   ],
   "source": [
    "rdrop = MoRF(rmodel, loaders, perc)"
   ]
  },
  {
   "cell_type": "code",
   "execution_count": 40,
   "id": "168761d5",
   "metadata": {},
   "outputs": [],
   "source": [
    "cdrop = MoRF(cmodel, loaders, perc)"
   ]
  },
  {
   "cell_type": "code",
   "execution_count": 41,
   "id": "9a24b0b1",
   "metadata": {},
   "outputs": [],
   "source": [
    "gdrop = MoRF(gmodel, loaders, perc)"
   ]
  },
  {
   "cell_type": "code",
   "execution_count": 12,
   "id": "9ed5e738",
   "metadata": {},
   "outputs": [
    {
     "name": "stderr",
     "output_type": "stream",
     "text": [
      "C:\\Users\\unknown\\Desktop\\xai_projects\\xai-learning-constraints\\metrics\\metrics.py:55: UserWarning: Implicit dimension choice for softmax has been deprecated. Change the call to include dim=X as an argument.\n",
      "  d = softm(model(images.cuda()*maskpos.cuda())).cpu().detach().numpy()[0,torch.argmax(softm(model(images.cuda())))]/torch.max(softm(model(images.cuda()))).cpu().detach().numpy()\n"
     ]
    }
   ],
   "source": [
    "fdrop = MoRF(fmodel, loaders, perc)"
   ]
  },
  {
   "cell_type": "code",
   "execution_count": 13,
   "id": "746d5480",
   "metadata": {},
   "outputs": [],
   "source": [
    "bdrop = MoRF(bmodel, loaders, perc)"
   ]
  },
  {
   "cell_type": "code",
   "execution_count": 46,
   "id": "b81d6873",
   "metadata": {},
   "outputs": [
    {
     "data": {
      "image/png": "[encoded data removed]",
      "text/plain": [
       "<Figure size 432x288 with 1 Axes>"
      ]
     },
     "metadata": {
      "needs_background": "light"
     },
     "output_type": "display_data"
    }
   ],
   "source": [
    "plt.plot(1-np.array(perc)/100, 1-bdrop, label=\"base\")\n",
    "plt.plot(1-np.array(perc)/100, 1-rdrop, label=\"gradreg\")\n",
    "plt.plot(1-np.array(perc)/100, 1-fdrop, label=\"fid\")\n",
    "plt.plot(1-np.array(perc)/100, 1-cdrop, label=\"consist\")\n",
    "plt.plot(1-np.array(perc)/100, 1-gdrop, label=\"gener\")\n",
    "plt.legend()\n",
    "plt.savefig(r\"C:\\Users\\unknown\\Desktop\\xai_projects\\xai-learning-constraints\\results\\MoRF_curve_allconst_3b.png\")\n",
    "plt.show()"
   ]
  },
  {
   "cell_type": "code",
   "execution_count": 47,
   "id": "87ebec16",
   "metadata": {},
   "outputs": [
    {
     "data": {
      "image/png": "[encoded data removed]",
      "text/plain": [
       "<Figure size 432x288 with 1 Axes>"
      ]
     },
     "metadata": {
      "needs_background": "light"
     },
     "output_type": "display_data"
    }
   ],
   "source": [
    "plt.hist(bcorr, bins=50, label=\"base\")\n",
    "plt.hist(rcorr, bins=50, alpha = 0.4, label=\"gradreg\")\n",
    "plt.hist(fcorr, bins=50, alpha = 0.4, label=\"fid\")\n",
    "plt.hist(gcorr, bins=50, alpha = 0.4, label=\"gen\")\n",
    "plt.hist(ccorr, bins=50, alpha = 0.4, label=\"cons\")\n",
    "plt.legend()\n",
    "plt.savefig(r\"C:\\Users\\unknown\\Desktop\\xai_projects\\xai-learning-constraints\\results\\faith_hist_allconst_3b.png\")\n",
    "plt.show()"
   ]
  },
  {
   "cell_type": "code",
   "execution_count": null,
   "id": "437380e7",
   "metadata": {},
   "outputs": [],
   "source": []
  },
  {
   "cell_type": "code",
   "execution_count": 6,
   "id": "b7d588f3",
   "metadata": {},
   "outputs": [
    {
     "data": {
      "text/plain": [
       "0.9684"
      ]
     },
     "execution_count": 6,
     "metadata": {},
     "output_type": "execute_result"
    }
   ],
   "source": [
    "accuracy(model0, loaders)"
   ]
  },
  {
   "cell_type": "code",
   "execution_count": 7,
   "id": "a30b5f30",
   "metadata": {},
   "outputs": [
    {
     "data": {
      "text/plain": [
       "0.9518"
      ]
     },
     "execution_count": 7,
     "metadata": {},
     "output_type": "execute_result"
    }
   ],
   "source": [
    "accuracy(model1, loaders)"
   ]
  },
  {
   "cell_type": "code",
   "execution_count": 17,
   "id": "5a5cde48",
   "metadata": {},
   "outputs": [],
   "source": [
    "bcorr0 = faithfulness(bmodel0, loaders, perc)"
   ]
  },
  {
   "cell_type": "code",
   "execution_count": 22,
   "id": "081ab156",
   "metadata": {},
   "outputs": [
    {
     "data": {
      "text/plain": [
       "0.4264812329805759"
      ]
     },
     "execution_count": 22,
     "metadata": {},
     "output_type": "execute_result"
    }
   ],
   "source": [
    "np.mean(bcorr0)"
   ]
  },
  {
   "cell_type": "code",
   "execution_count": 23,
   "id": "968c90fb",
   "metadata": {},
   "outputs": [
    {
     "data": {
      "text/plain": [
       "0.5914468416869386"
      ]
     },
     "execution_count": 23,
     "metadata": {},
     "output_type": "execute_result"
    }
   ],
   "source": [
    "np.mean(corr0)"
   ]
  },
  {
   "cell_type": "code",
   "execution_count": 43,
   "id": "0e9e2817",
   "metadata": {},
   "outputs": [
    {
     "data": {
      "image/png": "[encoded data removed]",
      "text/plain": [
       "<Figure size 432x288 with 1 Axes>"
      ]
     },
     "metadata": {
      "needs_background": "light"
     },
     "output_type": "display_data"
    }
   ],
   "source": [
    "plt.hist(bcorr0, bins=50, label=\"base\", color=\"blue\")\n",
    "plt.axvline(np.mean(bcorr0), linewidth=1,  color=\"blue\")\n",
    "min_ylim, max_ylim = plt.ylim()\n",
    "plt.text(-0.25, max_ylim*0.95, 'Mean base: {:.2f}'.format(np.mean(bcorr0)), color=\"blue\")\n",
    "plt.hist(corr0, bins=50, alpha = 0.4, label=\"xai\", color=\"red\")\n",
    "plt.axvline(np.mean(corr0), linewidth=1,  color=\"red\")\n",
    "min_ylim, max_ylim = plt.ylim()\n",
    "plt.text(np.mean(corr0)*1.02, max_ylim*0.8, 'Mean xai: {:.2f}'.format(np.mean(corr0)), color=\"red\")\n",
    "plt.legend(loc=\"upper left\")\n",
    "plt.savefig(r\"C:\\Users\\unknown\\Desktop\\xai_projects\\xai-learning-constraints\\results\\Faith_hist_fid_3b.png\")\n",
    "plt.show()"
   ]
  },
  {
   "cell_type": "code",
   "execution_count": null,
   "id": "00f57877",
   "metadata": {},
   "outputs": [],
   "source": []
  },
  {
   "cell_type": "code",
   "execution_count": 8,
   "id": "febccbf0",
   "metadata": {},
   "outputs": [
    {
     "name": "stderr",
     "output_type": "stream",
     "text": [
      "C:\\Users\\unknown\\Anaconda3\\envs\\xai4uc3\\lib\\site-packages\\captum\\_utils\\gradient.py:58: UserWarning: Input Tensor 0 did not already require gradients, required_grads has been set automatically.\n",
      "  \"required_grads has been set automatically.\" % index\n",
      "C:\\Users\\unknown\\Desktop\\xai_projects\\xai-learning-constraints\\metrics\\metrics.py:64: UserWarning: Implicit dimension choice for softmax has been deprecated. Change the call to include dim=X as an argument.\n",
      "  diffpred[j] = softm(model(images)).squeeze()[labels].item() - softm(model(maskpos*images)).squeeze()[labels].item()\n"
     ]
    }
   ],
   "source": [
    "corr0 = faithfulness(model0, loaders, perc)"
   ]
  },
  {
   "cell_type": "code",
   "execution_count": 13,
   "id": "0c983eb8",
   "metadata": {},
   "outputs": [],
   "source": [
    "corr1 = faithfulness(model1, loaders, perc)"
   ]
  },
  {
   "cell_type": "code",
   "execution_count": 14,
   "id": "e99febaf",
   "metadata": {},
   "outputs": [
    {
     "data": {
      "text/plain": [
       "(array([1.000e+00, 1.000e+00, 4.000e+00, 6.000e+00, 1.000e+00, 5.000e+00,\n",
       "        2.300e+01, 2.100e+01, 4.200e+01, 4.100e+01, 2.800e+01, 3.700e+01,\n",
       "        2.100e+01, 2.200e+01, 2.000e+01, 9.000e+00, 9.000e+00, 4.000e+00,\n",
       "        5.000e+00, 1.000e+01, 6.000e+00, 4.000e+00, 5.000e+00, 6.000e+00,\n",
       "        7.000e+00, 1.200e+01, 1.900e+01, 1.200e+01, 1.600e+01, 1.900e+01,\n",
       "        2.200e+01, 3.300e+01, 5.600e+01, 6.700e+01, 9.300e+01, 1.480e+02,\n",
       "        1.990e+02, 3.240e+02, 4.160e+02, 3.370e+02, 4.030e+02, 3.920e+02,\n",
       "        3.820e+02, 5.130e+02, 5.080e+02, 7.460e+02, 1.933e+03, 2.306e+03,\n",
       "        5.520e+02, 1.540e+02]),\n",
       " array([-0.67876057, -0.64533828, -0.61191599, -0.5784937 , -0.54507141,\n",
       "        -0.51164912, -0.47822683, -0.44480454, -0.41138225, -0.37795996,\n",
       "        -0.34453767, -0.31111538, -0.27769309, -0.2442708 , -0.21084851,\n",
       "        -0.17742621, -0.14400392, -0.11058163, -0.07715934, -0.04373705,\n",
       "        -0.01031476,  0.02310753,  0.05652982,  0.08995211,  0.1233744 ,\n",
       "         0.15679669,  0.19021898,  0.22364127,  0.25706356,  0.29048585,\n",
       "         0.32390814,  0.35733043,  0.39075272,  0.42417501,  0.4575973 ,\n",
       "         0.4910196 ,  0.52444189,  0.55786418,  0.59128647,  0.62470876,\n",
       "         0.65813105,  0.69155334,  0.72497563,  0.75839792,  0.79182021,\n",
       "         0.8252425 ,  0.85866479,  0.89208708,  0.92550937,  0.95893166,\n",
       "         0.99235395]),\n",
       " <BarContainer object of 50 artists>)"
      ]
     },
     "execution_count": 14,
     "metadata": {},
     "output_type": "execute_result"
    },
    {
     "data": {
      "image/png": "[encoded data removed]",
      "text/plain": [
       "<Figure size 432x288 with 1 Axes>"
      ]
     },
     "metadata": {
      "needs_background": "light"
     },
     "output_type": "display_data"
    }
   ],
   "source": [
    "plt.hist(corr1, bins=50)"
   ]
  },
  {
   "cell_type": "code",
   "execution_count": 45,
   "id": "867ddf31",
   "metadata": {},
   "outputs": [],
   "source": [
    "bcorr1 = faithfulness(bmodel1, loaders, perc)"
   ]
  },
  {
   "cell_type": "code",
   "execution_count": 60,
   "id": "6379845d",
   "metadata": {},
   "outputs": [
    {
     "data": {
      "image/png": "[encoded data removed]",
      "text/plain": [
       "<Figure size 432x288 with 1 Axes>"
      ]
     },
     "metadata": {
      "needs_background": "light"
     },
     "output_type": "display_data"
    }
   ],
   "source": [
    "plt.hist(bcorr1, bins=50, label=\"base\", color=\"blue\")\n",
    "plt.axvline(np.mean(bcorr1), linewidth=1,  color=\"blue\")\n",
    "min_ylim, max_ylim = plt.ylim()\n",
    "plt.text(np.mean(bcorr1)*0.75, max_ylim, 'Mean base: {:.2f}'.format(np.mean(bcorr1)), color=\"blue\")\n",
    "plt.hist(corr1, bins=50, alpha = 0.4, label=\"xai\", color=\"red\")\n",
    "plt.axvline(np.mean(corr1), linewidth=1,  color=\"red\")\n",
    "min_ylim, max_ylim = plt.ylim()\n",
    "plt.text(np.mean(corr1)*0.45, max_ylim*0.9, 'Mean xai: {:.2f}'.format(np.mean(corr1)), color=\"red\")\n",
    "plt.legend(loc=\"upper left\")\n",
    "plt.savefig(r\"C:\\Users\\unknown\\Desktop\\xai_projects\\xai-learning-constraints\\results\\Faith_hist_fid_4b.png\")\n",
    "plt.show()"
   ]
  },
  {
   "cell_type": "code",
   "execution_count": 46,
   "id": "acc51287",
   "metadata": {},
   "outputs": [
    {
     "data": {
      "text/plain": [
       "(array([1.000e+00, 3.000e+00, 1.000e+00, 3.000e+00, 4.000e+00, 1.000e+00,\n",
       "        3.000e+00, 1.000e+00, 5.000e+00, 3.000e+00, 4.000e+00, 3.000e+00,\n",
       "        3.000e+00, 1.000e+00, 0.000e+00, 2.000e+00, 1.000e+00, 6.000e+00,\n",
       "        1.000e+00, 4.000e+00, 3.000e+00, 4.000e+00, 2.000e+00, 1.000e+00,\n",
       "        3.000e+00, 7.000e+00, 1.000e+01, 9.000e+00, 1.400e+01, 1.700e+01,\n",
       "        1.900e+01, 4.100e+01, 5.500e+01, 8.000e+01, 1.270e+02, 1.560e+02,\n",
       "        1.670e+02, 1.870e+02, 3.240e+02, 3.490e+02, 4.370e+02, 6.440e+02,\n",
       "        7.060e+02, 5.860e+02, 1.008e+03, 1.370e+03, 1.709e+03, 1.295e+03,\n",
       "        4.630e+02, 1.570e+02]),\n",
       " array([-0.57781125, -0.54648725, -0.51516326, -0.48383927, -0.45251528,\n",
       "        -0.42119129, -0.38986729, -0.3585433 , -0.32721931, -0.29589532,\n",
       "        -0.26457132, -0.23324733, -0.20192334, -0.17059935, -0.13927535,\n",
       "        -0.10795136, -0.07662737, -0.04530338, -0.01397938,  0.01734461,\n",
       "         0.0486686 ,  0.07999259,  0.11131659,  0.14264058,  0.17396457,\n",
       "         0.20528856,  0.23661256,  0.26793655,  0.29926054,  0.33058453,\n",
       "         0.36190852,  0.39323252,  0.42455651,  0.4558805 ,  0.48720449,\n",
       "         0.51852849,  0.54985248,  0.58117647,  0.61250046,  0.64382446,\n",
       "         0.67514845,  0.70647244,  0.73779643,  0.76912043,  0.80044442,\n",
       "         0.83176841,  0.8630924 ,  0.8944164 ,  0.92574039,  0.95706438,\n",
       "         0.98838837]),\n",
       " <BarContainer object of 50 artists>)"
      ]
     },
     "execution_count": 46,
     "metadata": {},
     "output_type": "execute_result"
    },
    {
     "data": {
      "image/png": "[encoded data removed]",
      "text/plain": [
       "<Figure size 432x288 with 1 Axes>"
      ]
     },
     "metadata": {
      "needs_background": "light"
     },
     "output_type": "display_data"
    }
   ],
   "source": [
    "plt.hist(bcorr1, bins=50)"
   ]
  },
  {
   "cell_type": "code",
   "execution_count": 5,
   "id": "b4574496",
   "metadata": {},
   "outputs": [],
   "source": [
    "loaders = MNIST_data(test_batch_size = 2000)"
   ]
  },
  {
   "cell_type": "code",
   "execution_count": 18,
   "id": "d6cb6efc",
   "metadata": {},
   "outputs": [],
   "source": [
    "bcomp0 = complexity(bmodel0, loaders)"
   ]
  },
  {
   "cell_type": "code",
   "execution_count": 19,
   "id": "efb5e38e",
   "metadata": {},
   "outputs": [
    {
     "data": {
      "text/plain": [
       "4.314507961273193"
      ]
     },
     "execution_count": 19,
     "metadata": {},
     "output_type": "execute_result"
    }
   ],
   "source": [
    "bcomp0"
   ]
  },
  {
   "cell_type": "code",
   "execution_count": 16,
   "id": "f306d5bc",
   "metadata": {},
   "outputs": [],
   "source": [
    "comp0 = complexity(model0, loaders)"
   ]
  },
  {
   "cell_type": "code",
   "execution_count": 17,
   "id": "36c80fff",
   "metadata": {},
   "outputs": [
    {
     "data": {
      "text/plain": [
       "3.9860782623291016"
      ]
     },
     "execution_count": 17,
     "metadata": {},
     "output_type": "execute_result"
    }
   ],
   "source": [
    "comp0"
   ]
  },
  {
   "cell_type": "code",
   "execution_count": 7,
   "id": "103c0ba8",
   "metadata": {},
   "outputs": [
    {
     "data": {
      "text/plain": [
       "4.102688789367676"
      ]
     },
     "execution_count": 7,
     "metadata": {},
     "output_type": "execute_result"
    }
   ],
   "source": [
    "comp1"
   ]
  },
  {
   "cell_type": "code",
   "execution_count": 8,
   "id": "a5809d28",
   "metadata": {},
   "outputs": [],
   "source": [
    "bcomp1 = complexity(bmodel1, loaders)"
   ]
  },
  {
   "cell_type": "code",
   "execution_count": 9,
   "id": "29fa1dbd",
   "metadata": {},
   "outputs": [
    {
     "data": {
      "text/plain": [
       "4.195592880249023"
      ]
     },
     "execution_count": 9,
     "metadata": {},
     "output_type": "execute_result"
    }
   ],
   "source": [
    "bcomp1"
   ]
  },
  {
   "cell_type": "code",
   "execution_count": 24,
   "id": "f0654772",
   "metadata": {},
   "outputs": [
    {
     "data": {
      "image/png": "[encoded data removed]",
      "text/plain": [
       "<Figure size 432x288 with 1 Axes>"
      ]
     },
     "metadata": {
      "needs_background": "light"
     },
     "output_type": "display_data"
    }
   ],
   "source": [
    "n_groups = 2\n",
    "means_base = (bcomp0, bcomp1)\n",
    "means_xai = (comp0, comp1)\n",
    "\n",
    "# create plot\n",
    "fig, ax = plt.subplots()\n",
    "index = np.arange(n_groups)\n",
    "bar_width = 0.1\n",
    "opacity = 0.7\n",
    "\n",
    "rects1 = plt.bar(index, means_base, bar_width,\n",
    "alpha=opacity,\n",
    "color='b',\n",
    "label='base')\n",
    "\n",
    "rects2 = plt.bar(index + bar_width, means_xai, bar_width,\n",
    "alpha=opacity,\n",
    "color='r',\n",
    "label='xai')\n",
    "\n",
    "plt.xlabel('Models')\n",
    "plt.ylabel('Complexity')\n",
    "#plt.title('Scores by person')\n",
    "plt.xticks(index + bar_width, ('3b', '4b'))\n",
    "plt.legend()\n",
    "\n",
    "plt.tight_layout()\n",
    "plt.savefig(r\"C:\\Users\\unknown\\Desktop\\xai_projects\\xai-learning-constraints\\results\\Complx_fid_base.png\")\n",
    "plt.show()"
   ]
  },
  {
   "cell_type": "code",
   "execution_count": null,
   "id": "7a84e16e",
   "metadata": {},
   "outputs": [],
   "source": []
  }
 ],
 "metadata": {
  "kernelspec": {
   "display_name": "Python [conda env:xai4uc3] *",
   "language": "python",
   "name": "conda-env-xai4uc3-py"
  },
  "language_info": {
   "codemirror_mode": {
    "name": "ipython",
    "version": 3
   },
   "file_extension": ".py",
   "mimetype": "text/x-python",
   "name": "python",
   "nbconvert_exporter": "python",
   "pygments_lexer": "ipython3",
   "version": "3.7.12"
  }
 },
 "nbformat": 4,
 "nbformat_minor": 5
}
