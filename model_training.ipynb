{
 "cells": [
  {
   "cell_type": "code",
   "execution_count": 12,
   "id": "c2013561",
   "metadata": {},
   "outputs": [],
   "source": [
    "import numpy as np\n",
    "import matplotlib.pyplot as plt\n",
    "import torch\n",
    "from train import train_fidelity, train_base\n",
    "from models.mnist_cnn import CNN3b, CNN4b\n",
    "from loaders.mnist_loader import MNIST_data\n",
    "from torch.optim import Adam, Adadelta\n",
    "from losses.losses import FidelityConstraint, StandardCrossEntropy\n",
    "from metrics.metrics import accuracy, MoRF"
   ]
  },
  {
   "cell_type": "code",
   "execution_count": 6,
   "id": "9210e93d",
   "metadata": {},
   "outputs": [],
   "source": [
    "loaders = MNIST_data(batch_size = 10)"
   ]
  },
  {
   "cell_type": "code",
   "execution_count": 7,
   "id": "131cb90d",
   "metadata": {},
   "outputs": [
    {
     "name": "stdout",
     "output_type": "stream",
     "text": [
      "CUDA Available:  True\n"
     ]
    }
   ],
   "source": [
    "print(\"CUDA Available: \",torch.cuda.is_available())\n",
    "use_cuda=True\n",
    "device = torch.device(\"cuda\" if (use_cuda and torch.cuda.is_available()) else \"cpu\")"
   ]
  },
  {
   "cell_type": "code",
   "execution_count": 8,
   "id": "de51ad7e",
   "metadata": {},
   "outputs": [],
   "source": [
    " torch.cuda.empty_cache()"
   ]
  },
  {
   "cell_type": "code",
   "execution_count": 9,
   "id": "0435ed9a",
   "metadata": {},
   "outputs": [
    {
     "name": "stdout",
     "output_type": "stream",
     "text": [
      "NVIDIA GeForce RTX 2060 with Max-Q Design\n",
      "Memory Usage:\n",
      "Allocated: 0.0 GB\n",
      "Cached:    0.0 GB\n"
     ]
    }
   ],
   "source": [
    "if device.type == 'cuda':\n",
    "    print(torch.cuda.get_device_name(0))\n",
    "    print('Memory Usage:')\n",
    "    print('Allocated:', round(torch.cuda.memory_allocated(0)/1024**3,1), 'GB')\n",
    "    print('Cached:   ', round(torch.cuda.memory_reserved(0)/1024**3,1), 'GB')"
   ]
  },
  {
   "cell_type": "code",
   "execution_count": 10,
   "id": "09c320be",
   "metadata": {},
   "outputs": [],
   "source": [
    "bmodel0 = CNN3b().to(device)\n",
    "optimizer0 = Adam(bmodel0.parameters(), lr = 0.01)   "
   ]
  },
  {
   "cell_type": "code",
   "execution_count": 17,
   "id": "c0711c56",
   "metadata": {},
   "outputs": [],
   "source": [
    "bmodel1 = CNN4b().to(device)\n",
    "optimizer1 = Adadelta(bmodel1.parameters())   "
   ]
  },
  {
   "cell_type": "code",
   "execution_count": 14,
   "id": "a6d0105b",
   "metadata": {},
   "outputs": [
    {
     "name": "stderr",
     "output_type": "stream",
     "text": [
      "C:\\Users\\unknown\\Desktop\\xai_projects\\xai-learning-constraints\\losses\\losses.py:19: UserWarning: Implicit dimension choice for log_softmax has been deprecated. Change the call to include dim=X as an argument.\n",
      "  log_probabilities = self.log_softmax(outputs)\n"
     ]
    },
    {
     "name": "stdout",
     "output_type": "stream",
     "text": [
      "Epoch [1/5], Step [100/6000], Loss: 1.1372\n",
      "Epoch [1/5], Step [200/6000], Loss: 0.1909\n",
      "Epoch [1/5], Step [300/6000], Loss: 0.0196\n",
      "Epoch [1/5], Step [400/6000], Loss: 0.4554\n",
      "Epoch [1/5], Step [500/6000], Loss: 0.7083\n",
      "Epoch [1/5], Step [600/6000], Loss: 0.6486\n",
      "Epoch [1/5], Step [700/6000], Loss: 0.2843\n",
      "Epoch [1/5], Step [800/6000], Loss: 0.0212\n",
      "Epoch [1/5], Step [900/6000], Loss: 0.0100\n",
      "Epoch [1/5], Step [1000/6000], Loss: 0.1379\n",
      "Epoch [1/5], Step [1100/6000], Loss: 0.4069\n",
      "Epoch [1/5], Step [1200/6000], Loss: 0.0920\n",
      "Epoch [1/5], Step [1300/6000], Loss: 1.0372\n",
      "Epoch [1/5], Step [1400/6000], Loss: 0.4989\n",
      "Epoch [1/5], Step [1500/6000], Loss: 0.0906\n",
      "Epoch [1/5], Step [1600/6000], Loss: 0.6412\n",
      "Epoch [1/5], Step [1700/6000], Loss: 0.2523\n",
      "Epoch [1/5], Step [1800/6000], Loss: 0.0031\n",
      "Epoch [1/5], Step [1900/6000], Loss: 0.0280\n",
      "Epoch [1/5], Step [2000/6000], Loss: 0.6441\n",
      "Epoch [1/5], Step [2100/6000], Loss: 0.0707\n",
      "Epoch [1/5], Step [2200/6000], Loss: 0.0379\n",
      "Epoch [1/5], Step [2300/6000], Loss: 0.0050\n",
      "Epoch [1/5], Step [2400/6000], Loss: 0.1938\n",
      "Epoch [1/5], Step [2500/6000], Loss: 0.0210\n",
      "Epoch [1/5], Step [2600/6000], Loss: 0.2281\n",
      "Epoch [1/5], Step [2700/6000], Loss: 0.1323\n",
      "Epoch [1/5], Step [2800/6000], Loss: 0.2503\n",
      "Epoch [1/5], Step [2900/6000], Loss: 0.0038\n",
      "Epoch [1/5], Step [3000/6000], Loss: 0.0032\n",
      "Epoch [1/5], Step [3100/6000], Loss: 0.0895\n",
      "Epoch [1/5], Step [3200/6000], Loss: 0.0478\n",
      "Epoch [1/5], Step [3300/6000], Loss: 0.1530\n",
      "Epoch [1/5], Step [3400/6000], Loss: 0.5974\n",
      "Epoch [1/5], Step [3500/6000], Loss: 0.6376\n",
      "Epoch [1/5], Step [3600/6000], Loss: 0.1265\n",
      "Epoch [1/5], Step [3700/6000], Loss: 0.0366\n",
      "Epoch [1/5], Step [3800/6000], Loss: 0.2563\n",
      "Epoch [1/5], Step [3900/6000], Loss: 0.0223\n",
      "Epoch [1/5], Step [4000/6000], Loss: 0.0012\n",
      "Epoch [1/5], Step [4100/6000], Loss: 0.4738\n",
      "Epoch [1/5], Step [4200/6000], Loss: 0.1939\n",
      "Epoch [1/5], Step [4300/6000], Loss: 0.3465\n",
      "Epoch [1/5], Step [4400/6000], Loss: 0.0079\n",
      "Epoch [1/5], Step [4500/6000], Loss: 0.0461\n",
      "Epoch [1/5], Step [4600/6000], Loss: 0.0480\n",
      "Epoch [1/5], Step [4700/6000], Loss: 0.0260\n",
      "Epoch [1/5], Step [4800/6000], Loss: 0.4940\n",
      "Epoch [1/5], Step [4900/6000], Loss: 0.0321\n",
      "Epoch [1/5], Step [5000/6000], Loss: 0.6443\n",
      "Epoch [1/5], Step [5100/6000], Loss: 0.2597\n",
      "Epoch [1/5], Step [5200/6000], Loss: 0.4643\n",
      "Epoch [1/5], Step [5300/6000], Loss: 0.0162\n",
      "Epoch [1/5], Step [5400/6000], Loss: 0.0278\n",
      "Epoch [1/5], Step [5500/6000], Loss: 0.0052\n",
      "Epoch [1/5], Step [5600/6000], Loss: 0.0986\n",
      "Epoch [1/5], Step [5700/6000], Loss: 0.5118\n",
      "Epoch [1/5], Step [5800/6000], Loss: 0.0611\n",
      "Epoch [1/5], Step [5900/6000], Loss: 0.0722\n",
      "Epoch [1/5], Step [6000/6000], Loss: 0.0005\n",
      "Accuracy =  0.92335\n",
      "Epoch [2/5], Step [100/6000], Loss: 0.0052\n",
      "Epoch [2/5], Step [200/6000], Loss: 0.2397\n",
      "Epoch [2/5], Step [300/6000], Loss: 0.1951\n",
      "Epoch [2/5], Step [400/6000], Loss: 0.2039\n",
      "Epoch [2/5], Step [500/6000], Loss: 0.7368\n",
      "Epoch [2/5], Step [600/6000], Loss: 0.0161\n",
      "Epoch [2/5], Step [700/6000], Loss: 0.0116\n",
      "Epoch [2/5], Step [800/6000], Loss: 0.2718\n",
      "Epoch [2/5], Step [900/6000], Loss: 0.0098\n",
      "Epoch [2/5], Step [1000/6000], Loss: 0.0882\n",
      "Epoch [2/5], Step [1100/6000], Loss: 0.1103\n",
      "Epoch [2/5], Step [1200/6000], Loss: 0.1735\n",
      "Epoch [2/5], Step [1300/6000], Loss: 0.0260\n",
      "Epoch [2/5], Step [1400/6000], Loss: 0.0272\n",
      "Epoch [2/5], Step [1500/6000], Loss: 0.0517\n",
      "Epoch [2/5], Step [1600/6000], Loss: 0.0001\n",
      "Epoch [2/5], Step [1700/6000], Loss: 0.2838\n",
      "Epoch [2/5], Step [1800/6000], Loss: 0.0107\n",
      "Epoch [2/5], Step [1900/6000], Loss: 0.0034\n",
      "Epoch [2/5], Step [2000/6000], Loss: 0.2336\n",
      "Epoch [2/5], Step [2100/6000], Loss: 0.1978\n",
      "Epoch [2/5], Step [2200/6000], Loss: 0.1467\n",
      "Epoch [2/5], Step [2300/6000], Loss: 0.1820\n",
      "Epoch [2/5], Step [2400/6000], Loss: 0.2088\n",
      "Epoch [2/5], Step [2500/6000], Loss: 0.0265\n",
      "Epoch [2/5], Step [2600/6000], Loss: 0.1305\n",
      "Epoch [2/5], Step [2700/6000], Loss: 0.5417\n",
      "Epoch [2/5], Step [2800/6000], Loss: 0.4789\n",
      "Epoch [2/5], Step [2900/6000], Loss: 0.2854\n",
      "Epoch [2/5], Step [3000/6000], Loss: 0.1492\n",
      "Epoch [2/5], Step [3100/6000], Loss: 0.0016\n",
      "Epoch [2/5], Step [3200/6000], Loss: 0.7560\n",
      "Epoch [2/5], Step [3300/6000], Loss: 0.1944\n",
      "Epoch [2/5], Step [3400/6000], Loss: 0.0006\n",
      "Epoch [2/5], Step [3500/6000], Loss: 0.0008\n",
      "Epoch [2/5], Step [3600/6000], Loss: 0.0950\n",
      "Epoch [2/5], Step [3700/6000], Loss: 0.0002\n",
      "Epoch [2/5], Step [3800/6000], Loss: 0.0048\n",
      "Epoch [2/5], Step [3900/6000], Loss: 0.1962\n",
      "Epoch [2/5], Step [4000/6000], Loss: 0.0615\n",
      "Epoch [2/5], Step [4100/6000], Loss: 0.0015\n",
      "Epoch [2/5], Step [4200/6000], Loss: 0.0983\n",
      "Epoch [2/5], Step [4300/6000], Loss: 0.3395\n",
      "Epoch [2/5], Step [4400/6000], Loss: 0.2590\n",
      "Epoch [2/5], Step [4500/6000], Loss: 0.3234\n",
      "Epoch [2/5], Step [4600/6000], Loss: 0.5764\n",
      "Epoch [2/5], Step [4700/6000], Loss: 0.1788\n",
      "Epoch [2/5], Step [4800/6000], Loss: 0.0185\n",
      "Epoch [2/5], Step [4900/6000], Loss: 0.0266\n",
      "Epoch [2/5], Step [5000/6000], Loss: 0.0063\n",
      "Epoch [2/5], Step [5100/6000], Loss: 0.0581\n",
      "Epoch [2/5], Step [5200/6000], Loss: 0.0057\n",
      "Epoch [2/5], Step [5300/6000], Loss: 0.5544\n",
      "Epoch [2/5], Step [5400/6000], Loss: 0.0057\n",
      "Epoch [2/5], Step [5500/6000], Loss: 0.0067\n",
      "Epoch [2/5], Step [5600/6000], Loss: 0.0095\n",
      "Epoch [2/5], Step [5700/6000], Loss: 0.0179\n",
      "Epoch [2/5], Step [5800/6000], Loss: 0.5318\n",
      "Epoch [2/5], Step [5900/6000], Loss: 0.0583\n",
      "Epoch [2/5], Step [6000/6000], Loss: 0.0789\n",
      "Accuracy =  0.9519166666666666\n",
      "Epoch [3/5], Step [100/6000], Loss: 0.0995\n",
      "Epoch [3/5], Step [200/6000], Loss: 0.0165\n",
      "Epoch [3/5], Step [300/6000], Loss: 0.0175\n",
      "Epoch [3/5], Step [400/6000], Loss: 0.0278\n",
      "Epoch [3/5], Step [500/6000], Loss: 0.0027\n",
      "Epoch [3/5], Step [600/6000], Loss: 0.0492\n",
      "Epoch [3/5], Step [700/6000], Loss: 0.0006\n",
      "Epoch [3/5], Step [800/6000], Loss: 0.0261\n",
      "Epoch [3/5], Step [900/6000], Loss: 0.0132\n",
      "Epoch [3/5], Step [1000/6000], Loss: 0.0211\n",
      "Epoch [3/5], Step [1100/6000], Loss: 1.0043\n",
      "Epoch [3/5], Step [1200/6000], Loss: 0.0085\n",
      "Epoch [3/5], Step [1300/6000], Loss: 0.0087\n",
      "Epoch [3/5], Step [1400/6000], Loss: 0.0271\n",
      "Epoch [3/5], Step [1500/6000], Loss: 0.5345\n",
      "Epoch [3/5], Step [1600/6000], Loss: 0.0093\n",
      "Epoch [3/5], Step [1700/6000], Loss: 0.0540\n",
      "Epoch [3/5], Step [1800/6000], Loss: 0.1512\n",
      "Epoch [3/5], Step [1900/6000], Loss: 0.7552\n",
      "Epoch [3/5], Step [2000/6000], Loss: 0.0032\n",
      "Epoch [3/5], Step [2100/6000], Loss: 0.0013\n",
      "Epoch [3/5], Step [2200/6000], Loss: 0.0335\n",
      "Epoch [3/5], Step [2300/6000], Loss: 0.1527\n",
      "Epoch [3/5], Step [2400/6000], Loss: 0.1367\n",
      "Epoch [3/5], Step [2500/6000], Loss: 0.2733\n",
      "Epoch [3/5], Step [2600/6000], Loss: 0.1183\n",
      "Epoch [3/5], Step [2700/6000], Loss: 0.0177\n",
      "Epoch [3/5], Step [2800/6000], Loss: 0.0370\n",
      "Epoch [3/5], Step [2900/6000], Loss: 0.1528\n",
      "Epoch [3/5], Step [3000/6000], Loss: 0.0072\n",
      "Epoch [3/5], Step [3100/6000], Loss: 0.1144\n",
      "Epoch [3/5], Step [3200/6000], Loss: 0.3423\n",
      "Epoch [3/5], Step [3300/6000], Loss: 0.0903\n",
      "Epoch [3/5], Step [3400/6000], Loss: 0.4161\n",
      "Epoch [3/5], Step [3500/6000], Loss: 0.3785\n",
      "Epoch [3/5], Step [3600/6000], Loss: 0.0208\n",
      "Epoch [3/5], Step [3700/6000], Loss: 0.0031\n",
      "Epoch [3/5], Step [3800/6000], Loss: 0.0474\n",
      "Epoch [3/5], Step [3900/6000], Loss: 0.1659\n",
      "Epoch [3/5], Step [4000/6000], Loss: 0.3953\n",
      "Epoch [3/5], Step [4100/6000], Loss: 0.0216\n",
      "Epoch [3/5], Step [4200/6000], Loss: 0.0121\n",
      "Epoch [3/5], Step [4300/6000], Loss: 0.3311\n",
      "Epoch [3/5], Step [4400/6000], Loss: 0.0111\n",
      "Epoch [3/5], Step [4500/6000], Loss: 0.0247\n",
      "Epoch [3/5], Step [4600/6000], Loss: 0.4483\n",
      "Epoch [3/5], Step [4700/6000], Loss: 0.2221\n",
      "Epoch [3/5], Step [4800/6000], Loss: 0.0166\n",
      "Epoch [3/5], Step [4900/6000], Loss: 0.0262\n",
      "Epoch [3/5], Step [5000/6000], Loss: 0.6691\n",
      "Epoch [3/5], Step [5100/6000], Loss: 0.2195\n",
      "Epoch [3/5], Step [5200/6000], Loss: 0.6848\n",
      "Epoch [3/5], Step [5300/6000], Loss: 0.0040\n",
      "Epoch [3/5], Step [5400/6000], Loss: 0.0997\n",
      "Epoch [3/5], Step [5500/6000], Loss: 0.1901\n",
      "Epoch [3/5], Step [5600/6000], Loss: 0.1395\n",
      "Epoch [3/5], Step [5700/6000], Loss: 0.6620\n",
      "Epoch [3/5], Step [5800/6000], Loss: 0.3279\n",
      "Epoch [3/5], Step [5900/6000], Loss: 0.1141\n",
      "Epoch [3/5], Step [6000/6000], Loss: 0.0277\n",
      "Accuracy =  0.9553833333333334\n",
      "Epoch [4/5], Step [100/6000], Loss: 0.0038\n",
      "Epoch [4/5], Step [200/6000], Loss: 0.0260\n",
      "Epoch [4/5], Step [300/6000], Loss: 0.1293\n",
      "Epoch [4/5], Step [400/6000], Loss: 0.0548\n",
      "Epoch [4/5], Step [500/6000], Loss: 1.0839\n",
      "Epoch [4/5], Step [600/6000], Loss: 0.0061\n"
     ]
    },
    {
     "name": "stdout",
     "output_type": "stream",
     "text": [
      "Epoch [4/5], Step [700/6000], Loss: 0.5075\n",
      "Epoch [4/5], Step [800/6000], Loss: 0.0100\n",
      "Epoch [4/5], Step [900/6000], Loss: 0.0585\n",
      "Epoch [4/5], Step [1000/6000], Loss: 0.4386\n",
      "Epoch [4/5], Step [1100/6000], Loss: 0.0468\n",
      "Epoch [4/5], Step [1200/6000], Loss: 0.0017\n",
      "Epoch [4/5], Step [1300/6000], Loss: 0.4934\n",
      "Epoch [4/5], Step [1400/6000], Loss: 0.0208\n",
      "Epoch [4/5], Step [1500/6000], Loss: 0.0770\n",
      "Epoch [4/5], Step [1600/6000], Loss: 0.0381\n",
      "Epoch [4/5], Step [1700/6000], Loss: 0.0045\n",
      "Epoch [4/5], Step [1800/6000], Loss: 0.6700\n",
      "Epoch [4/5], Step [1900/6000], Loss: 0.0295\n",
      "Epoch [4/5], Step [2000/6000], Loss: 0.0154\n",
      "Epoch [4/5], Step [2100/6000], Loss: 0.6300\n",
      "Epoch [4/5], Step [2200/6000], Loss: 0.2690\n",
      "Epoch [4/5], Step [2300/6000], Loss: 0.5944\n",
      "Epoch [4/5], Step [2400/6000], Loss: 0.0277\n",
      "Epoch [4/5], Step [2500/6000], Loss: 0.0375\n",
      "Epoch [4/5], Step [2600/6000], Loss: 0.2718\n",
      "Epoch [4/5], Step [2700/6000], Loss: 0.0017\n",
      "Epoch [4/5], Step [2800/6000], Loss: 0.0022\n",
      "Epoch [4/5], Step [2900/6000], Loss: 0.1525\n",
      "Epoch [4/5], Step [3000/6000], Loss: 0.2535\n",
      "Epoch [4/5], Step [3100/6000], Loss: 0.0057\n",
      "Epoch [4/5], Step [3200/6000], Loss: 0.0233\n",
      "Epoch [4/5], Step [3300/6000], Loss: 0.0025\n",
      "Epoch [4/5], Step [3400/6000], Loss: 0.0097\n",
      "Epoch [4/5], Step [3500/6000], Loss: 0.3803\n",
      "Epoch [4/5], Step [3600/6000], Loss: 0.0107\n",
      "Epoch [4/5], Step [3700/6000], Loss: 0.4189\n",
      "Epoch [4/5], Step [3800/6000], Loss: 0.5389\n",
      "Epoch [4/5], Step [3900/6000], Loss: 0.0064\n",
      "Epoch [4/5], Step [4000/6000], Loss: 0.0548\n",
      "Epoch [4/5], Step [4100/6000], Loss: 0.1248\n",
      "Epoch [4/5], Step [4200/6000], Loss: 0.9038\n",
      "Epoch [4/5], Step [4300/6000], Loss: 0.0011\n",
      "Epoch [4/5], Step [4400/6000], Loss: 0.1663\n",
      "Epoch [4/5], Step [4500/6000], Loss: 0.4291\n",
      "Epoch [4/5], Step [4600/6000], Loss: 0.0781\n",
      "Epoch [4/5], Step [4700/6000], Loss: 0.0096\n",
      "Epoch [4/5], Step [4800/6000], Loss: 0.0151\n",
      "Epoch [4/5], Step [4900/6000], Loss: 0.0068\n",
      "Epoch [4/5], Step [5000/6000], Loss: 0.0332\n",
      "Epoch [4/5], Step [5100/6000], Loss: 0.5202\n",
      "Epoch [4/5], Step [5200/6000], Loss: 0.2617\n",
      "Epoch [4/5], Step [5300/6000], Loss: 0.0074\n",
      "Epoch [4/5], Step [5400/6000], Loss: 0.0055\n",
      "Epoch [4/5], Step [5500/6000], Loss: 0.0967\n",
      "Epoch [4/5], Step [5600/6000], Loss: 0.2137\n",
      "Epoch [4/5], Step [5700/6000], Loss: 0.0020\n",
      "Epoch [4/5], Step [5800/6000], Loss: 0.0345\n",
      "Epoch [4/5], Step [5900/6000], Loss: 0.9049\n",
      "Epoch [4/5], Step [6000/6000], Loss: 0.0069\n",
      "Accuracy =  0.9578\n",
      "Epoch [5/5], Step [100/6000], Loss: 0.0043\n",
      "Epoch [5/5], Step [200/6000], Loss: 0.4806\n",
      "Epoch [5/5], Step [300/6000], Loss: 0.1833\n",
      "Epoch [5/5], Step [400/6000], Loss: 0.0054\n",
      "Epoch [5/5], Step [500/6000], Loss: 0.1385\n",
      "Epoch [5/5], Step [600/6000], Loss: 0.4559\n",
      "Epoch [5/5], Step [700/6000], Loss: 0.0046\n",
      "Epoch [5/5], Step [800/6000], Loss: 0.0290\n",
      "Epoch [5/5], Step [900/6000], Loss: 0.0804\n",
      "Epoch [5/5], Step [1000/6000], Loss: 0.2137\n",
      "Epoch [5/5], Step [1100/6000], Loss: 0.1466\n",
      "Epoch [5/5], Step [1200/6000], Loss: 0.1167\n",
      "Epoch [5/5], Step [1300/6000], Loss: 0.0989\n",
      "Epoch [5/5], Step [1400/6000], Loss: 0.0286\n",
      "Epoch [5/5], Step [1500/6000], Loss: 0.5438\n",
      "Epoch [5/5], Step [1600/6000], Loss: 1.7512\n",
      "Epoch [5/5], Step [1700/6000], Loss: 0.0269\n",
      "Epoch [5/5], Step [1800/6000], Loss: 0.0181\n",
      "Epoch [5/5], Step [1900/6000], Loss: 0.4552\n",
      "Epoch [5/5], Step [2000/6000], Loss: 0.7346\n",
      "Epoch [5/5], Step [2100/6000], Loss: 0.1304\n",
      "Epoch [5/5], Step [2200/6000], Loss: 0.0017\n",
      "Epoch [5/5], Step [2300/6000], Loss: 0.1073\n",
      "Epoch [5/5], Step [2400/6000], Loss: 0.0076\n",
      "Epoch [5/5], Step [2500/6000], Loss: 0.0040\n",
      "Epoch [5/5], Step [2600/6000], Loss: 0.6973\n",
      "Epoch [5/5], Step [2700/6000], Loss: 0.0401\n",
      "Epoch [5/5], Step [2800/6000], Loss: 0.2704\n",
      "Epoch [5/5], Step [2900/6000], Loss: 0.0086\n",
      "Epoch [5/5], Step [3000/6000], Loss: 0.0092\n",
      "Epoch [5/5], Step [3100/6000], Loss: 0.0144\n",
      "Epoch [5/5], Step [3200/6000], Loss: 0.0011\n",
      "Epoch [5/5], Step [3300/6000], Loss: 0.0441\n",
      "Epoch [5/5], Step [3400/6000], Loss: 0.1232\n",
      "Epoch [5/5], Step [3500/6000], Loss: 0.0001\n",
      "Epoch [5/5], Step [3600/6000], Loss: 0.0958\n",
      "Epoch [5/5], Step [3700/6000], Loss: 0.0106\n",
      "Epoch [5/5], Step [3800/6000], Loss: 0.0876\n",
      "Epoch [5/5], Step [3900/6000], Loss: 0.0344\n",
      "Epoch [5/5], Step [4000/6000], Loss: 0.3702\n",
      "Epoch [5/5], Step [4100/6000], Loss: 0.0012\n",
      "Epoch [5/5], Step [4200/6000], Loss: 0.0180\n",
      "Epoch [5/5], Step [4300/6000], Loss: 0.0366\n",
      "Epoch [5/5], Step [4400/6000], Loss: 0.2826\n",
      "Epoch [5/5], Step [4500/6000], Loss: 0.0116\n",
      "Epoch [5/5], Step [4600/6000], Loss: 0.7446\n",
      "Epoch [5/5], Step [4700/6000], Loss: 0.0594\n",
      "Epoch [5/5], Step [4800/6000], Loss: 0.3570\n",
      "Epoch [5/5], Step [4900/6000], Loss: 0.3271\n",
      "Epoch [5/5], Step [5000/6000], Loss: 0.0892\n",
      "Epoch [5/5], Step [5100/6000], Loss: 0.0009\n",
      "Epoch [5/5], Step [5200/6000], Loss: 0.1512\n",
      "Epoch [5/5], Step [5300/6000], Loss: 0.0313\n",
      "Epoch [5/5], Step [5400/6000], Loss: 0.0532\n",
      "Epoch [5/5], Step [5500/6000], Loss: 0.0626\n",
      "Epoch [5/5], Step [5600/6000], Loss: 0.0094\n",
      "Epoch [5/5], Step [5700/6000], Loss: 0.0193\n",
      "Epoch [5/5], Step [5800/6000], Loss: 0.1012\n",
      "Epoch [5/5], Step [5900/6000], Loss: 0.0001\n",
      "Epoch [5/5], Step [6000/6000], Loss: 0.7026\n",
      "Accuracy =  0.9573833333333334\n"
     ]
    }
   ],
   "source": [
    "acc0, loss0 = train_base(bmodel0, loaders, 5, optimizer0, StandardCrossEntropy())"
   ]
  },
  {
   "cell_type": "code",
   "execution_count": 15,
   "id": "ead3de07",
   "metadata": {},
   "outputs": [
    {
     "data": {
      "text/plain": [
       "0.9628"
      ]
     },
     "execution_count": 15,
     "metadata": {},
     "output_type": "execute_result"
    }
   ],
   "source": [
    "accuracy(bmodel0,loaders)"
   ]
  },
  {
   "cell_type": "code",
   "execution_count": 16,
   "id": "8b447a9e",
   "metadata": {},
   "outputs": [],
   "source": [
    "torch.save(bmodel0, r\"C:\\Users\\unknown\\Desktop\\xai_projects\\xai-learning-constraints\\results\\3b_cnn_adam_9628.pt\")"
   ]
  },
  {
   "cell_type": "code",
   "execution_count": 18,
   "id": "ee853562",
   "metadata": {},
   "outputs": [
    {
     "name": "stdout",
     "output_type": "stream",
     "text": [
      "Epoch [1/5], Step [100/6000], Loss: 0.3109\n",
      "Epoch [1/5], Step [200/6000], Loss: 0.6172\n",
      "Epoch [1/5], Step [300/6000], Loss: 0.1983\n",
      "Epoch [1/5], Step [400/6000], Loss: 0.4424\n",
      "Epoch [1/5], Step [500/6000], Loss: 0.0043\n",
      "Epoch [1/5], Step [600/6000], Loss: 0.0476\n",
      "Epoch [1/5], Step [700/6000], Loss: 0.0270\n",
      "Epoch [1/5], Step [800/6000], Loss: 0.0242\n",
      "Epoch [1/5], Step [900/6000], Loss: 0.0158\n",
      "Epoch [1/5], Step [1000/6000], Loss: 0.2321\n",
      "Epoch [1/5], Step [1100/6000], Loss: 0.1812\n",
      "Epoch [1/5], Step [1200/6000], Loss: 0.6494\n",
      "Epoch [1/5], Step [1300/6000], Loss: 0.0016\n",
      "Epoch [1/5], Step [1400/6000], Loss: 0.1750\n",
      "Epoch [1/5], Step [1500/6000], Loss: 0.0030\n",
      "Epoch [1/5], Step [1600/6000], Loss: 0.1515\n",
      "Epoch [1/5], Step [1700/6000], Loss: 0.4223\n",
      "Epoch [1/5], Step [1800/6000], Loss: 0.0449\n",
      "Epoch [1/5], Step [1900/6000], Loss: 0.0821\n",
      "Epoch [1/5], Step [2000/6000], Loss: 0.0031\n",
      "Epoch [1/5], Step [2100/6000], Loss: 0.0037\n",
      "Epoch [1/5], Step [2200/6000], Loss: 0.0001\n",
      "Epoch [1/5], Step [2300/6000], Loss: 0.4244\n",
      "Epoch [1/5], Step [2400/6000], Loss: 0.1260\n",
      "Epoch [1/5], Step [2500/6000], Loss: 0.0018\n",
      "Epoch [1/5], Step [2600/6000], Loss: 0.5066\n",
      "Epoch [1/5], Step [2700/6000], Loss: 0.0057\n",
      "Epoch [1/5], Step [2800/6000], Loss: 0.0119\n",
      "Epoch [1/5], Step [2900/6000], Loss: 0.0052\n",
      "Epoch [1/5], Step [3000/6000], Loss: 0.0012\n",
      "Epoch [1/5], Step [3100/6000], Loss: 0.0005\n",
      "Epoch [1/5], Step [3200/6000], Loss: 0.1245\n",
      "Epoch [1/5], Step [3300/6000], Loss: 0.0312\n",
      "Epoch [1/5], Step [3400/6000], Loss: 0.0675\n",
      "Epoch [1/5], Step [3500/6000], Loss: 0.0024\n",
      "Epoch [1/5], Step [3600/6000], Loss: 0.0265\n",
      "Epoch [1/5], Step [3700/6000], Loss: 0.0072\n",
      "Epoch [1/5], Step [3800/6000], Loss: 0.0027\n",
      "Epoch [1/5], Step [3900/6000], Loss: 0.0732\n",
      "Epoch [1/5], Step [4000/6000], Loss: 0.0061\n",
      "Epoch [1/5], Step [4100/6000], Loss: 0.2814\n",
      "Epoch [1/5], Step [4200/6000], Loss: 0.0407\n",
      "Epoch [1/5], Step [4300/6000], Loss: 0.0193\n",
      "Epoch [1/5], Step [4400/6000], Loss: 0.0011\n",
      "Epoch [1/5], Step [4500/6000], Loss: 0.0460\n",
      "Epoch [1/5], Step [4600/6000], Loss: 0.0007\n",
      "Epoch [1/5], Step [4700/6000], Loss: 0.0002\n",
      "Epoch [1/5], Step [4800/6000], Loss: 0.0013\n",
      "Epoch [1/5], Step [4900/6000], Loss: 0.0796\n",
      "Epoch [1/5], Step [5000/6000], Loss: 0.0018\n",
      "Epoch [1/5], Step [5100/6000], Loss: 0.0013\n",
      "Epoch [1/5], Step [5200/6000], Loss: 0.4838\n",
      "Epoch [1/5], Step [5300/6000], Loss: 0.2362\n",
      "Epoch [1/5], Step [5400/6000], Loss: 0.0508\n",
      "Epoch [1/5], Step [5500/6000], Loss: 0.3035\n",
      "Epoch [1/5], Step [5600/6000], Loss: 0.0008\n",
      "Epoch [1/5], Step [5700/6000], Loss: 0.0044\n",
      "Epoch [1/5], Step [5800/6000], Loss: 0.0399\n",
      "Epoch [1/5], Step [5900/6000], Loss: 0.0102\n",
      "Epoch [1/5], Step [6000/6000], Loss: 0.0081\n",
      "Accuracy =  0.9607\n",
      "Epoch [2/5], Step [100/6000], Loss: 0.1187\n",
      "Epoch [2/5], Step [200/6000], Loss: 0.0060\n",
      "Epoch [2/5], Step [300/6000], Loss: 0.0336\n",
      "Epoch [2/5], Step [400/6000], Loss: 0.0000\n",
      "Epoch [2/5], Step [500/6000], Loss: 0.0003\n",
      "Epoch [2/5], Step [600/6000], Loss: 0.0000\n",
      "Epoch [2/5], Step [700/6000], Loss: 0.0002\n",
      "Epoch [2/5], Step [800/6000], Loss: 0.0005\n",
      "Epoch [2/5], Step [900/6000], Loss: 0.0000\n",
      "Epoch [2/5], Step [1000/6000], Loss: 0.0050\n",
      "Epoch [2/5], Step [1100/6000], Loss: 0.0422\n",
      "Epoch [2/5], Step [1200/6000], Loss: 0.0019\n",
      "Epoch [2/5], Step [1300/6000], Loss: 0.0160\n",
      "Epoch [2/5], Step [1400/6000], Loss: 0.0001\n",
      "Epoch [2/5], Step [1500/6000], Loss: 0.1310\n",
      "Epoch [2/5], Step [1600/6000], Loss: 0.0002\n",
      "Epoch [2/5], Step [1700/6000], Loss: 0.0002\n",
      "Epoch [2/5], Step [1800/6000], Loss: 0.5232\n",
      "Epoch [2/5], Step [1900/6000], Loss: 0.0002\n",
      "Epoch [2/5], Step [2000/6000], Loss: 0.0000\n",
      "Epoch [2/5], Step [2100/6000], Loss: 0.2339\n",
      "Epoch [2/5], Step [2200/6000], Loss: 0.0000\n",
      "Epoch [2/5], Step [2300/6000], Loss: 0.0003\n",
      "Epoch [2/5], Step [2400/6000], Loss: 0.0769\n",
      "Epoch [2/5], Step [2500/6000], Loss: 0.0002\n",
      "Epoch [2/5], Step [2600/6000], Loss: 0.0054\n",
      "Epoch [2/5], Step [2700/6000], Loss: 0.0003\n",
      "Epoch [2/5], Step [2800/6000], Loss: 0.0005\n",
      "Epoch [2/5], Step [2900/6000], Loss: 0.0001\n",
      "Epoch [2/5], Step [3000/6000], Loss: 0.0077\n",
      "Epoch [2/5], Step [3100/6000], Loss: 0.1376\n",
      "Epoch [2/5], Step [3200/6000], Loss: 0.0244\n",
      "Epoch [2/5], Step [3300/6000], Loss: 0.0001\n",
      "Epoch [2/5], Step [3400/6000], Loss: 0.0000\n",
      "Epoch [2/5], Step [3500/6000], Loss: 0.0012\n",
      "Epoch [2/5], Step [3600/6000], Loss: 0.0001\n",
      "Epoch [2/5], Step [3700/6000], Loss: 0.0015\n",
      "Epoch [2/5], Step [3800/6000], Loss: 0.0342\n",
      "Epoch [2/5], Step [3900/6000], Loss: 0.3507\n",
      "Epoch [2/5], Step [4000/6000], Loss: 0.0000\n",
      "Epoch [2/5], Step [4100/6000], Loss: 0.0977\n",
      "Epoch [2/5], Step [4200/6000], Loss: 1.4058\n",
      "Epoch [2/5], Step [4300/6000], Loss: 0.0004\n",
      "Epoch [2/5], Step [4400/6000], Loss: 0.0016\n",
      "Epoch [2/5], Step [4500/6000], Loss: 0.0005\n",
      "Epoch [2/5], Step [4600/6000], Loss: 0.0020\n",
      "Epoch [2/5], Step [4700/6000], Loss: 0.0001\n",
      "Epoch [2/5], Step [4800/6000], Loss: 0.0001\n",
      "Epoch [2/5], Step [4900/6000], Loss: 0.0001\n",
      "Epoch [2/5], Step [5000/6000], Loss: 0.0878\n",
      "Epoch [2/5], Step [5100/6000], Loss: 0.7149\n",
      "Epoch [2/5], Step [5200/6000], Loss: 0.1686\n",
      "Epoch [2/5], Step [5300/6000], Loss: 0.0012\n",
      "Epoch [2/5], Step [5400/6000], Loss: 0.0224\n",
      "Epoch [2/5], Step [5500/6000], Loss: 0.0002\n",
      "Epoch [2/5], Step [5600/6000], Loss: 0.0002\n",
      "Epoch [2/5], Step [5700/6000], Loss: 0.0080\n",
      "Epoch [2/5], Step [5800/6000], Loss: 0.0000\n",
      "Epoch [2/5], Step [5900/6000], Loss: 0.0008\n",
      "Epoch [2/5], Step [6000/6000], Loss: 0.0004\n",
      "Accuracy =  0.9846333333333334\n",
      "Epoch [3/5], Step [100/6000], Loss: 0.0002\n",
      "Epoch [3/5], Step [200/6000], Loss: 0.0001\n",
      "Epoch [3/5], Step [300/6000], Loss: 0.0447\n",
      "Epoch [3/5], Step [400/6000], Loss: 0.0002\n",
      "Epoch [3/5], Step [500/6000], Loss: 0.0002\n",
      "Epoch [3/5], Step [600/6000], Loss: 0.0001\n",
      "Epoch [3/5], Step [700/6000], Loss: 0.0001\n",
      "Epoch [3/5], Step [800/6000], Loss: 0.0000\n",
      "Epoch [3/5], Step [900/6000], Loss: 0.0075\n",
      "Epoch [3/5], Step [1000/6000], Loss: 0.0004\n",
      "Epoch [3/5], Step [1100/6000], Loss: 0.0025\n",
      "Epoch [3/5], Step [1200/6000], Loss: 0.0018\n",
      "Epoch [3/5], Step [1300/6000], Loss: 0.0008\n",
      "Epoch [3/5], Step [1400/6000], Loss: 0.0059\n",
      "Epoch [3/5], Step [1500/6000], Loss: 0.0032\n",
      "Epoch [3/5], Step [1600/6000], Loss: 0.0002\n",
      "Epoch [3/5], Step [1700/6000], Loss: 0.0018\n",
      "Epoch [3/5], Step [1800/6000], Loss: 0.0014\n",
      "Epoch [3/5], Step [1900/6000], Loss: 0.0000\n",
      "Epoch [3/5], Step [2000/6000], Loss: 0.0055\n",
      "Epoch [3/5], Step [2100/6000], Loss: 0.0003\n",
      "Epoch [3/5], Step [2200/6000], Loss: 0.0005\n",
      "Epoch [3/5], Step [2300/6000], Loss: 0.0002\n",
      "Epoch [3/5], Step [2400/6000], Loss: 0.0912\n",
      "Epoch [3/5], Step [2500/6000], Loss: 0.0003\n",
      "Epoch [3/5], Step [2600/6000], Loss: 0.0003\n",
      "Epoch [3/5], Step [2700/6000], Loss: 0.0001\n",
      "Epoch [3/5], Step [2800/6000], Loss: 0.0002\n",
      "Epoch [3/5], Step [2900/6000], Loss: 0.0013\n",
      "Epoch [3/5], Step [3000/6000], Loss: 0.0001\n",
      "Epoch [3/5], Step [3100/6000], Loss: 0.0643\n",
      "Epoch [3/5], Step [3200/6000], Loss: 0.0001\n",
      "Epoch [3/5], Step [3300/6000], Loss: 0.0000\n",
      "Epoch [3/5], Step [3400/6000], Loss: 0.0094\n",
      "Epoch [3/5], Step [3500/6000], Loss: 0.0006\n",
      "Epoch [3/5], Step [3600/6000], Loss: 0.4871\n",
      "Epoch [3/5], Step [3700/6000], Loss: 0.0003\n",
      "Epoch [3/5], Step [3800/6000], Loss: 0.0135\n",
      "Epoch [3/5], Step [3900/6000], Loss: 0.0000\n",
      "Epoch [3/5], Step [4000/6000], Loss: 0.0051\n",
      "Epoch [3/5], Step [4100/6000], Loss: 0.0001\n",
      "Epoch [3/5], Step [4200/6000], Loss: 0.0000\n",
      "Epoch [3/5], Step [4300/6000], Loss: 0.0105\n",
      "Epoch [3/5], Step [4400/6000], Loss: 0.0000\n",
      "Epoch [3/5], Step [4500/6000], Loss: 0.0001\n",
      "Epoch [3/5], Step [4600/6000], Loss: 0.0003\n",
      "Epoch [3/5], Step [4700/6000], Loss: 0.0000\n",
      "Epoch [3/5], Step [4800/6000], Loss: 0.0000\n",
      "Epoch [3/5], Step [4900/6000], Loss: 0.0003\n",
      "Epoch [3/5], Step [5000/6000], Loss: 0.0124\n",
      "Epoch [3/5], Step [5100/6000], Loss: 0.0074\n",
      "Epoch [3/5], Step [5200/6000], Loss: 0.0014\n",
      "Epoch [3/5], Step [5300/6000], Loss: 0.0699\n",
      "Epoch [3/5], Step [5400/6000], Loss: 0.0005\n",
      "Epoch [3/5], Step [5500/6000], Loss: 0.0013\n",
      "Epoch [3/5], Step [5600/6000], Loss: 0.0018\n",
      "Epoch [3/5], Step [5700/6000], Loss: 0.0003\n",
      "Epoch [3/5], Step [5800/6000], Loss: 0.0006\n",
      "Epoch [3/5], Step [5900/6000], Loss: 0.0083\n",
      "Epoch [3/5], Step [6000/6000], Loss: 0.0000\n",
      "Accuracy =  0.9876166666666667\n",
      "Epoch [4/5], Step [100/6000], Loss: 0.0029\n",
      "Epoch [4/5], Step [200/6000], Loss: 0.0543\n",
      "Epoch [4/5], Step [300/6000], Loss: 0.0001\n",
      "Epoch [4/5], Step [400/6000], Loss: 0.0015\n",
      "Epoch [4/5], Step [500/6000], Loss: 0.0000\n",
      "Epoch [4/5], Step [600/6000], Loss: 0.0000\n"
     ]
    },
    {
     "name": "stdout",
     "output_type": "stream",
     "text": [
      "Epoch [4/5], Step [700/6000], Loss: 0.0035\n",
      "Epoch [4/5], Step [800/6000], Loss: 0.0000\n",
      "Epoch [4/5], Step [900/6000], Loss: 0.0375\n",
      "Epoch [4/5], Step [1000/6000], Loss: 0.0008\n",
      "Epoch [4/5], Step [1100/6000], Loss: 0.0000\n",
      "Epoch [4/5], Step [1200/6000], Loss: 0.0000\n",
      "Epoch [4/5], Step [1300/6000], Loss: 0.0018\n",
      "Epoch [4/5], Step [1400/6000], Loss: 0.0000\n",
      "Epoch [4/5], Step [1500/6000], Loss: 0.0000\n",
      "Epoch [4/5], Step [1600/6000], Loss: 0.0000\n",
      "Epoch [4/5], Step [1700/6000], Loss: 0.0000\n",
      "Epoch [4/5], Step [1800/6000], Loss: 0.0000\n",
      "Epoch [4/5], Step [1900/6000], Loss: 0.0000\n",
      "Epoch [4/5], Step [2000/6000], Loss: 0.0000\n",
      "Epoch [4/5], Step [2100/6000], Loss: 0.0000\n",
      "Epoch [4/5], Step [2200/6000], Loss: 0.0000\n",
      "Epoch [4/5], Step [2300/6000], Loss: 0.0000\n",
      "Epoch [4/5], Step [2400/6000], Loss: 0.0000\n",
      "Epoch [4/5], Step [2500/6000], Loss: 0.0658\n",
      "Epoch [4/5], Step [2600/6000], Loss: 0.0999\n",
      "Epoch [4/5], Step [2700/6000], Loss: 0.0018\n",
      "Epoch [4/5], Step [2800/6000], Loss: 0.0012\n",
      "Epoch [4/5], Step [2900/6000], Loss: 0.0000\n",
      "Epoch [4/5], Step [3000/6000], Loss: 0.0002\n",
      "Epoch [4/5], Step [3100/6000], Loss: 0.0967\n",
      "Epoch [4/5], Step [3200/6000], Loss: 0.0000\n",
      "Epoch [4/5], Step [3300/6000], Loss: 0.0082\n",
      "Epoch [4/5], Step [3400/6000], Loss: 0.0102\n",
      "Epoch [4/5], Step [3500/6000], Loss: 0.0000\n",
      "Epoch [4/5], Step [3600/6000], Loss: 0.0004\n",
      "Epoch [4/5], Step [3700/6000], Loss: 0.2231\n",
      "Epoch [4/5], Step [3800/6000], Loss: 0.0013\n",
      "Epoch [4/5], Step [3900/6000], Loss: 0.3906\n",
      "Epoch [4/5], Step [4000/6000], Loss: 0.0000\n",
      "Epoch [4/5], Step [4100/6000], Loss: 0.0000\n",
      "Epoch [4/5], Step [4200/6000], Loss: 0.0000\n",
      "Epoch [4/5], Step [4300/6000], Loss: 0.0000\n",
      "Epoch [4/5], Step [4400/6000], Loss: 0.0032\n",
      "Epoch [4/5], Step [4500/6000], Loss: 0.0000\n",
      "Epoch [4/5], Step [4600/6000], Loss: 0.0001\n",
      "Epoch [4/5], Step [4700/6000], Loss: 0.0005\n",
      "Epoch [4/5], Step [4800/6000], Loss: 0.0004\n",
      "Epoch [4/5], Step [4900/6000], Loss: 0.0021\n",
      "Epoch [4/5], Step [5000/6000], Loss: 0.0000\n",
      "Epoch [4/5], Step [5100/6000], Loss: 0.0019\n",
      "Epoch [4/5], Step [5200/6000], Loss: 0.0000\n",
      "Epoch [4/5], Step [5300/6000], Loss: 0.0000\n",
      "Epoch [4/5], Step [5400/6000], Loss: 0.0001\n",
      "Epoch [4/5], Step [5500/6000], Loss: 0.1899\n",
      "Epoch [4/5], Step [5600/6000], Loss: 0.0007\n",
      "Epoch [4/5], Step [5700/6000], Loss: 0.0002\n",
      "Epoch [4/5], Step [5800/6000], Loss: 0.0001\n",
      "Epoch [4/5], Step [5900/6000], Loss: 0.0001\n",
      "Epoch [4/5], Step [6000/6000], Loss: 0.0000\n",
      "Accuracy =  0.9910333333333333\n",
      "Epoch [5/5], Step [100/6000], Loss: 0.0002\n",
      "Epoch [5/5], Step [200/6000], Loss: 0.0219\n",
      "Epoch [5/5], Step [300/6000], Loss: 0.0000\n",
      "Epoch [5/5], Step [400/6000], Loss: 0.0000\n",
      "Epoch [5/5], Step [500/6000], Loss: 0.0000\n",
      "Epoch [5/5], Step [600/6000], Loss: 0.0000\n",
      "Epoch [5/5], Step [700/6000], Loss: 0.1212\n",
      "Epoch [5/5], Step [800/6000], Loss: 0.0000\n",
      "Epoch [5/5], Step [900/6000], Loss: 0.0000\n",
      "Epoch [5/5], Step [1000/6000], Loss: 0.0041\n",
      "Epoch [5/5], Step [1100/6000], Loss: 0.0000\n",
      "Epoch [5/5], Step [1200/6000], Loss: 0.0032\n",
      "Epoch [5/5], Step [1300/6000], Loss: 0.0001\n",
      "Epoch [5/5], Step [1400/6000], Loss: 0.0000\n",
      "Epoch [5/5], Step [1500/6000], Loss: 0.2555\n",
      "Epoch [5/5], Step [1600/6000], Loss: 0.0000\n",
      "Epoch [5/5], Step [1700/6000], Loss: 0.0000\n",
      "Epoch [5/5], Step [1800/6000], Loss: 0.0000\n",
      "Epoch [5/5], Step [1900/6000], Loss: 0.0174\n",
      "Epoch [5/5], Step [2000/6000], Loss: 0.0000\n",
      "Epoch [5/5], Step [2100/6000], Loss: 0.0002\n",
      "Epoch [5/5], Step [2200/6000], Loss: 0.0000\n",
      "Epoch [5/5], Step [2300/6000], Loss: 0.0000\n",
      "Epoch [5/5], Step [2400/6000], Loss: 0.0274\n",
      "Epoch [5/5], Step [2500/6000], Loss: 0.0001\n",
      "Epoch [5/5], Step [2600/6000], Loss: 0.0002\n",
      "Epoch [5/5], Step [2700/6000], Loss: 0.0379\n",
      "Epoch [5/5], Step [2800/6000], Loss: 0.0000\n",
      "Epoch [5/5], Step [2900/6000], Loss: 0.0004\n",
      "Epoch [5/5], Step [3000/6000], Loss: 0.0002\n",
      "Epoch [5/5], Step [3100/6000], Loss: 0.0000\n",
      "Epoch [5/5], Step [3200/6000], Loss: 0.0015\n",
      "Epoch [5/5], Step [3300/6000], Loss: 0.0002\n",
      "Epoch [5/5], Step [3400/6000], Loss: 0.0102\n",
      "Epoch [5/5], Step [3500/6000], Loss: 0.0577\n",
      "Epoch [5/5], Step [3600/6000], Loss: 0.0000\n",
      "Epoch [5/5], Step [3700/6000], Loss: 0.0024\n",
      "Epoch [5/5], Step [3800/6000], Loss: 0.0000\n",
      "Epoch [5/5], Step [3900/6000], Loss: 0.0000\n",
      "Epoch [5/5], Step [4000/6000], Loss: 0.0000\n",
      "Epoch [5/5], Step [4100/6000], Loss: 0.0031\n",
      "Epoch [5/5], Step [4200/6000], Loss: 0.1449\n",
      "Epoch [5/5], Step [4300/6000], Loss: 0.0005\n",
      "Epoch [5/5], Step [4400/6000], Loss: -0.0000\n",
      "Epoch [5/5], Step [4500/6000], Loss: -0.0000\n",
      "Epoch [5/5], Step [4600/6000], Loss: 0.0000\n",
      "Epoch [5/5], Step [4700/6000], Loss: 0.0000\n",
      "Epoch [5/5], Step [4800/6000], Loss: 0.0000\n",
      "Epoch [5/5], Step [4900/6000], Loss: 0.0002\n",
      "Epoch [5/5], Step [5000/6000], Loss: 0.0000\n",
      "Epoch [5/5], Step [5100/6000], Loss: 0.0004\n",
      "Epoch [5/5], Step [5200/6000], Loss: 0.2266\n",
      "Epoch [5/5], Step [5300/6000], Loss: 0.0000\n",
      "Epoch [5/5], Step [5400/6000], Loss: 0.0000\n",
      "Epoch [5/5], Step [5500/6000], Loss: 0.0001\n",
      "Epoch [5/5], Step [5600/6000], Loss: 0.0005\n",
      "Epoch [5/5], Step [5700/6000], Loss: 0.0000\n",
      "Epoch [5/5], Step [5800/6000], Loss: 0.4710\n",
      "Epoch [5/5], Step [5900/6000], Loss: 0.0000\n",
      "Epoch [5/5], Step [6000/6000], Loss: 0.0036\n",
      "Accuracy =  0.9926\n"
     ]
    }
   ],
   "source": [
    "acc1, loss1 = train_base(bmodel1, loaders, 5, optimizer1, StandardCrossEntropy())"
   ]
  },
  {
   "cell_type": "code",
   "execution_count": 19,
   "id": "a1eded45",
   "metadata": {},
   "outputs": [
    {
     "data": {
      "text/plain": [
       "0.9881"
      ]
     },
     "execution_count": 19,
     "metadata": {},
     "output_type": "execute_result"
    }
   ],
   "source": [
    "accuracy(bmodel1,loaders)"
   ]
  },
  {
   "cell_type": "code",
   "execution_count": 20,
   "id": "7508b62a",
   "metadata": {},
   "outputs": [],
   "source": [
    "torch.save(bmodel1, r\"C:\\Users\\unknown\\Desktop\\xai_projects\\xai-learning-constraints\\results\\4b_cnn_adadelta_9881.pt\")"
   ]
  },
  {
   "cell_type": "code",
   "execution_count": 29,
   "id": "6cc9c364",
   "metadata": {},
   "outputs": [
    {
     "data": {
      "text/plain": [
       "CNN3b(\n",
       "  (conv1): Sequential(\n",
       "    (0): Conv2d(1, 16, kernel_size=(5, 5), stride=(1, 1), padding=(2, 2))\n",
       "    (1): ReLU()\n",
       "    (2): MaxPool2d(kernel_size=2, stride=2, padding=0, dilation=1, ceil_mode=False)\n",
       "  )\n",
       "  (conv2): Sequential(\n",
       "    (0): Conv2d(16, 32, kernel_size=(5, 5), stride=(1, 1), padding=(2, 2))\n",
       "    (1): ReLU()\n",
       "    (2): MaxPool2d(kernel_size=2, stride=2, padding=0, dilation=1, ceil_mode=False)\n",
       "  )\n",
       "  (out): Linear(in_features=1568, out_features=10, bias=True)\n",
       ")"
      ]
     },
     "execution_count": 29,
     "metadata": {},
     "output_type": "execute_result"
    }
   ],
   "source": [
    "model0 = torch.load(r\"C:\\Users\\unknown\\Desktop\\xai_projects\\xai-learning-constraints\\results\\3b_cnn_adam_fid_9684.pt\")\n",
    "model0.eval()"
   ]
  },
  {
   "cell_type": "code",
   "execution_count": 30,
   "id": "a0de83a6",
   "metadata": {},
   "outputs": [
    {
     "data": {
      "text/plain": [
       "CNN4b(\n",
       "  (conv1): Sequential(\n",
       "    (0): Conv2d(1, 32, kernel_size=(3, 3), stride=(1, 1), padding=(2, 2))\n",
       "    (1): BatchNorm2d(32, eps=1e-05, momentum=0.1, affine=True, track_running_stats=True)\n",
       "    (2): ReLU(inplace=True)\n",
       "  )\n",
       "  (conv2): Sequential(\n",
       "    (0): Conv2d(32, 64, kernel_size=(3, 3), stride=(1, 1), padding=(2, 2))\n",
       "    (1): BatchNorm2d(64, eps=1e-05, momentum=0.1, affine=True, track_running_stats=True)\n",
       "    (2): ReLU(inplace=True)\n",
       "    (3): MaxPool2d(kernel_size=2, stride=2, padding=0, dilation=1, ceil_mode=False)\n",
       "    (4): Flatten(start_dim=1, end_dim=-1)\n",
       "  )\n",
       "  (dense1): Sequential(\n",
       "    (0): Linear(in_features=16384, out_features=128, bias=True)\n",
       "  )\n",
       "  (dense2): Sequential(\n",
       "    (0): Linear(in_features=128, out_features=10, bias=True)\n",
       "  )\n",
       ")"
      ]
     },
     "execution_count": 30,
     "metadata": {},
     "output_type": "execute_result"
    }
   ],
   "source": [
    "model1 = torch.load(r\"C:\\Users\\unknown\\Desktop\\xai_projects\\xai-learning-constraints\\results\\\\4b_cnn_adadelta_fid_9518.pt\")\n",
    "model1.eval()"
   ]
  },
  {
   "cell_type": "code",
   "execution_count": 13,
   "id": "a87ade86",
   "metadata": {},
   "outputs": [
    {
     "data": {
      "text/plain": [
       "0.9684"
      ]
     },
     "execution_count": 13,
     "metadata": {},
     "output_type": "execute_result"
    }
   ],
   "source": [
    "accuracy(model0,loaders)"
   ]
  },
  {
   "cell_type": "code",
   "execution_count": 11,
   "id": "b87b646f",
   "metadata": {},
   "outputs": [
    {
     "data": {
      "text/plain": [
       "0.9518"
      ]
     },
     "execution_count": 11,
     "metadata": {},
     "output_type": "execute_result"
    }
   ],
   "source": [
    "accuracy(model1,loaders)"
   ]
  },
  {
   "cell_type": "code",
   "execution_count": 21,
   "id": "9ed50cf0",
   "metadata": {},
   "outputs": [],
   "source": [
    "perc = list(sorted(np.linspace(0, 100, num=20).astype(int), reverse=True))"
   ]
  },
  {
   "cell_type": "code",
   "execution_count": 31,
   "id": "56e87254",
   "metadata": {},
   "outputs": [
    {
     "name": "stderr",
     "output_type": "stream",
     "text": [
      "C:\\Users\\unknown\\Anaconda3\\envs\\xai4uc3\\lib\\site-packages\\captum\\_utils\\gradient.py:58: UserWarning: Input Tensor 0 did not already require gradients, required_grads has been set automatically.\n",
      "  \"required_grads has been set automatically.\" % index\n",
      "C:\\Users\\unknown\\Desktop\\xai_projects\\xai-learning-constraints\\metrics\\metrics.py:43: UserWarning: Implicit dimension choice for softmax has been deprecated. Change the call to include dim=X as an argument.\n",
      "  d = softm(model(images.cuda()*maskpos.cuda())).cpu().detach().numpy()[0,torch.argmax(softm(model(images.cuda())))]/torch.max(softm(model(images.cuda()))).cpu().detach().numpy()\n"
     ]
    }
   ],
   "source": [
    "drop0 = MoRF(model0, loaders, perc)"
   ]
  },
  {
   "cell_type": "code",
   "execution_count": 32,
   "id": "03cb8a58",
   "metadata": {},
   "outputs": [],
   "source": [
    "drop1 = MoRF(model1, loaders, perc)"
   ]
  },
  {
   "cell_type": "code",
   "execution_count": 27,
   "id": "fb62a06a",
   "metadata": {},
   "outputs": [
    {
     "data": {
      "text/plain": [
       "array([1.        , 0.9961991 , 0.9939671 , 0.99067806, 0.98420988,\n",
       "       0.9780885 , 0.9700118 , 0.96019138, 0.94048305, 0.9192363 ,\n",
       "       0.88569709, 0.84696926, 0.78146375, 0.71755237, 0.6442615 ,\n",
       "       0.56283756, 0.46812199, 0.3835839 , 0.3055036 , 0.23282925])"
      ]
     },
     "execution_count": 27,
     "metadata": {},
     "output_type": "execute_result"
    }
   ],
   "source": [
    "bdrop0"
   ]
  },
  {
   "cell_type": "code",
   "execution_count": 18,
   "id": "a94703eb",
   "metadata": {},
   "outputs": [
    {
     "data": {
      "text/plain": [
       "array([0.        , 0.29093052, 0.52430298, 0.64878743, 0.73880627,\n",
       "       0.79103772, 0.83093271, 0.85483369, 0.87438611, 0.88347648,\n",
       "       0.89230496, 0.8911447 , 0.88981796, 0.89067377, 0.89124072,\n",
       "       0.89276235, 0.89346811, 0.89252203, 0.89292844, 0.89223848])"
      ]
     },
     "execution_count": 18,
     "metadata": {},
     "output_type": "execute_result"
    }
   ],
   "source": [
    "1-drop1"
   ]
  },
  {
   "cell_type": "code",
   "execution_count": 28,
   "id": "9c8238f3",
   "metadata": {},
   "outputs": [
    {
     "data": {
      "image/png": "[encoded data removed]",
      "text/plain": [
       "<Figure size 432x288 with 1 Axes>"
      ]
     },
     "metadata": {
      "needs_background": "light"
     },
     "output_type": "display_data"
    }
   ],
   "source": [
    "plt.plot(1-np.array(perc)/100, 1-bdrop0, label=\"3b_adam\")\n",
    "plt.plot(1-np.array(perc)/100, 1-bdrop1, label=\"4b_adadelta\")\n",
    "plt.legend()\n",
    "plt.show()"
   ]
  },
  {
   "cell_type": "code",
   "execution_count": 33,
   "id": "73b2fd1a",
   "metadata": {},
   "outputs": [
    {
     "data": {
      "image/png": "[encoded data removed]",
      "text/plain": [
       "<Figure size 432x288 with 1 Axes>"
      ]
     },
     "metadata": {
      "needs_background": "light"
     },
     "output_type": "display_data"
    }
   ],
   "source": [
    "plt.title(\"MoRF curve\")\n",
    "plt.plot(1-np.array(perc)/100, 1-drop0, label=\"xai:3b_adam\")\n",
    "plt.plot(1-np.array(perc)/100, 1-drop1, label=\"xai:4b_adadelta\")\n",
    "plt.plot(1-np.array(perc)/100, 1-bdrop0, label=\"3b_adam\")\n",
    "plt.plot(1-np.array(perc)/100, 1-bdrop1, label=\"4b_adadelta\")\n",
    "plt.xlabel(\"% pix removed\")\n",
    "plt.ylabel(\"avg error\")\n",
    "plt.legend()\n",
    "plt.savefig(r\"C:\\Users\\unknown\\Desktop\\xai_projects\\xai-learning-constraints\\results\\MoRF_curve_fidelity_3b4b.png\")\n",
    "plt.show()"
   ]
  },
  {
   "cell_type": "code",
   "execution_count": 38,
   "id": "c20adb7f",
   "metadata": {},
   "outputs": [
    {
     "data": {
      "text/plain": [
       "0.4373033463348592"
      ]
     },
     "execution_count": 38,
     "metadata": {},
     "output_type": "execute_result"
    }
   ],
   "source": [
    "np.mean(1-drop0)"
   ]
  },
  {
   "cell_type": "code",
   "execution_count": 39,
   "id": "ff8fc968",
   "metadata": {},
   "outputs": [
    {
     "data": {
      "text/plain": [
       "0.7678295304900484"
      ]
     },
     "execution_count": 39,
     "metadata": {},
     "output_type": "execute_result"
    }
   ],
   "source": [
    "np.mean(1-drop1)"
   ]
  },
  {
   "cell_type": "code",
   "execution_count": 40,
   "id": "72a8c7c6",
   "metadata": {},
   "outputs": [
    {
     "data": {
      "text/plain": [
       "0.6769576146917377"
      ]
     },
     "execution_count": 40,
     "metadata": {},
     "output_type": "execute_result"
    }
   ],
   "source": [
    "np.mean(1-bdrop1)"
   ]
  },
  {
   "cell_type": "code",
   "execution_count": 41,
   "id": "f8cc26c6",
   "metadata": {},
   "outputs": [
    {
     "data": {
      "text/plain": [
       "0.2219057289009787"
      ]
     },
     "execution_count": 41,
     "metadata": {},
     "output_type": "execute_result"
    }
   ],
   "source": [
    "np.mean(1-bdrop0)"
   ]
  },
  {
   "cell_type": "code",
   "execution_count": null,
   "id": "7ef34b7a",
   "metadata": {},
   "outputs": [],
   "source": []
  }
 ],
 "metadata": {
  "kernelspec": {
   "display_name": "Python [conda env:xai4uc3] *",
   "language": "python",
   "name": "conda-env-xai4uc3-py"
  },
  "language_info": {
   "codemirror_mode": {
    "name": "ipython",
    "version": 3
   },
   "file_extension": ".py",
   "mimetype": "text/x-python",
   "name": "python",
   "nbconvert_exporter": "python",
   "pygments_lexer": "ipython3",
   "version": "3.7.12"
  }
 },
 "nbformat": 4,
 "nbformat_minor": 5
}
