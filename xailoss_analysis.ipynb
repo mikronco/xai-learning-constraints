{
 "cells": [
  {
   "cell_type": "code",
   "execution_count": 16,
   "id": "54b98347",
   "metadata": {},
   "outputs": [],
   "source": [
    "import numpy as np\n",
    "import torch\n",
    "from torch.nn import Module\n",
    "from metrics.metrics import accuracy, MoRF\n",
    "from loaders.mnist_loader import MNIST_data\n",
    "import matplotlib.pyplot as plt"
   ]
  },
  {
   "cell_type": "code",
   "execution_count": 2,
   "id": "581488bb",
   "metadata": {},
   "outputs": [],
   "source": [
    "loaders = MNIST_data()"
   ]
  },
  {
   "cell_type": "code",
   "execution_count": 3,
   "id": "ab839585",
   "metadata": {},
   "outputs": [],
   "source": [
    "class BaseCNN(Module):   \n",
    "    def __init__(self):\n",
    "        super(BaseCNN, self).__init__()\n",
    "\n",
    "        self.conv1 = Sequential(\n",
    "            Conv2d(1, 32, kernel_size=3, stride=1, padding=2),\n",
    "            BatchNorm2d(32),\n",
    "            ReLU(inplace=True),\n",
    "        )\n",
    "        \n",
    "        self.conv2 = Sequential(\n",
    "            Conv2d(32, 64, kernel_size=3, stride=1, padding=2),\n",
    "            BatchNorm2d(64),\n",
    "            ReLU(inplace=True),\n",
    "            MaxPool2d(kernel_size=2, stride=2),\n",
    "            Flatten()\n",
    "        )\n",
    "        \n",
    "        self.dense1 = Sequential(\n",
    "            Linear(16384, 128)\n",
    "        )\n",
    "        \n",
    "        self.dense2 = Sequential(\n",
    "            Linear(128, 10)\n",
    "        )\n",
    "\n",
    "    # Defining the forward pass    \n",
    "    def forward(self, x):\n",
    "        x = self.conv1(x)\n",
    "        x = self.conv2(x)\n",
    "        x = self.dense1(x)\n",
    "        x = self.dense2(x)\n",
    "        return x"
   ]
  },
  {
   "cell_type": "code",
   "execution_count": 4,
   "id": "ef9eb12a",
   "metadata": {},
   "outputs": [
    {
     "data": {
      "text/plain": [
       "BaseCNN(\n",
       "  (conv1): Sequential(\n",
       "    (0): Conv2d(1, 32, kernel_size=(3, 3), stride=(1, 1), padding=(2, 2))\n",
       "    (1): BatchNorm2d(32, eps=1e-05, momentum=0.1, affine=True, track_running_stats=True)\n",
       "    (2): ReLU(inplace=True)\n",
       "  )\n",
       "  (conv2): Sequential(\n",
       "    (0): Conv2d(32, 64, kernel_size=(3, 3), stride=(1, 1), padding=(2, 2))\n",
       "    (1): BatchNorm2d(64, eps=1e-05, momentum=0.1, affine=True, track_running_stats=True)\n",
       "    (2): ReLU(inplace=True)\n",
       "    (3): MaxPool2d(kernel_size=2, stride=2, padding=0, dilation=1, ceil_mode=False)\n",
       "    (4): Flatten(start_dim=1, end_dim=-1)\n",
       "  )\n",
       "  (dense1): Sequential(\n",
       "    (0): Linear(in_features=16384, out_features=128, bias=True)\n",
       "  )\n",
       "  (dense2): Sequential(\n",
       "    (0): Linear(in_features=128, out_features=10, bias=True)\n",
       "  )\n",
       ")"
      ]
     },
     "execution_count": 4,
     "metadata": {},
     "output_type": "execute_result"
    }
   ],
   "source": [
    "fmodel = torch.load(r\"C:\\Users\\unknown\\Desktop\\repos\\explainability\\xaicnn_v1.pt\")\n",
    "fmodel.eval()"
   ]
  },
  {
   "cell_type": "code",
   "execution_count": 5,
   "id": "91b27bc4",
   "metadata": {},
   "outputs": [
    {
     "data": {
      "text/plain": [
       "BaseCNN(\n",
       "  (conv1): Sequential(\n",
       "    (0): Conv2d(1, 32, kernel_size=(3, 3), stride=(1, 1), padding=(2, 2))\n",
       "    (1): BatchNorm2d(32, eps=1e-05, momentum=0.1, affine=True, track_running_stats=True)\n",
       "    (2): ReLU(inplace=True)\n",
       "  )\n",
       "  (conv2): Sequential(\n",
       "    (0): Conv2d(32, 64, kernel_size=(3, 3), stride=(1, 1), padding=(2, 2))\n",
       "    (1): BatchNorm2d(64, eps=1e-05, momentum=0.1, affine=True, track_running_stats=True)\n",
       "    (2): ReLU(inplace=True)\n",
       "    (3): MaxPool2d(kernel_size=2, stride=2, padding=0, dilation=1, ceil_mode=False)\n",
       "    (4): Flatten(start_dim=1, end_dim=-1)\n",
       "  )\n",
       "  (dense1): Sequential(\n",
       "    (0): Linear(in_features=16384, out_features=128, bias=True)\n",
       "  )\n",
       "  (dense2): Sequential(\n",
       "    (0): Linear(in_features=128, out_features=10, bias=True)\n",
       "  )\n",
       ")"
      ]
     },
     "execution_count": 5,
     "metadata": {},
     "output_type": "execute_result"
    }
   ],
   "source": [
    "bmodel = torch.load(r\"C:\\Users\\unknown\\Desktop\\repos\\explainability\\basecnn_v1.pt\")\n",
    "bmodel.eval()"
   ]
  },
  {
   "cell_type": "code",
   "execution_count": 6,
   "id": "e8671301",
   "metadata": {},
   "outputs": [
    {
     "data": {
      "text/plain": [
       "BaseCNN(\n",
       "  (conv1): Sequential(\n",
       "    (0): Conv2d(1, 32, kernel_size=(3, 3), stride=(1, 1), padding=(2, 2))\n",
       "    (1): BatchNorm2d(32, eps=1e-05, momentum=0.1, affine=True, track_running_stats=True)\n",
       "    (2): ReLU(inplace=True)\n",
       "  )\n",
       "  (conv2): Sequential(\n",
       "    (0): Conv2d(32, 64, kernel_size=(3, 3), stride=(1, 1), padding=(2, 2))\n",
       "    (1): BatchNorm2d(64, eps=1e-05, momentum=0.1, affine=True, track_running_stats=True)\n",
       "    (2): ReLU(inplace=True)\n",
       "    (3): MaxPool2d(kernel_size=2, stride=2, padding=0, dilation=1, ceil_mode=False)\n",
       "    (4): Flatten(start_dim=1, end_dim=-1)\n",
       "  )\n",
       "  (dense1): Sequential(\n",
       "    (0): Linear(in_features=16384, out_features=128, bias=True)\n",
       "  )\n",
       "  (dense2): Sequential(\n",
       "    (0): Linear(in_features=128, out_features=10, bias=True)\n",
       "  )\n",
       ")"
      ]
     },
     "execution_count": 6,
     "metadata": {},
     "output_type": "execute_result"
    }
   ],
   "source": [
    "lmodel = torch.load(r\"C:\\Users\\unknown\\Desktop\\repos\\explainability\\xaicnn_locality_v0.pt\")\n",
    "lmodel.eval()"
   ]
  },
  {
   "cell_type": "code",
   "execution_count": 8,
   "id": "be10d56b",
   "metadata": {},
   "outputs": [],
   "source": [
    "perc = list(sorted(np.linspace(0, 100, num=10).astype(int), reverse=True))"
   ]
  },
  {
   "cell_type": "code",
   "execution_count": 9,
   "id": "b7d588f3",
   "metadata": {},
   "outputs": [
    {
     "data": {
      "text/plain": [
       "0.9819"
      ]
     },
     "execution_count": 9,
     "metadata": {},
     "output_type": "execute_result"
    }
   ],
   "source": [
    "accuracy(bmodel, loaders)"
   ]
  },
  {
   "cell_type": "code",
   "execution_count": 10,
   "id": "a30b5f30",
   "metadata": {},
   "outputs": [
    {
     "data": {
      "text/plain": [
       "0.9863"
      ]
     },
     "execution_count": 10,
     "metadata": {},
     "output_type": "execute_result"
    }
   ],
   "source": [
    "accuracy(fmodel, loaders)"
   ]
  },
  {
   "cell_type": "code",
   "execution_count": 11,
   "id": "ac17ce6f",
   "metadata": {},
   "outputs": [
    {
     "data": {
      "text/plain": [
       "0.9796"
      ]
     },
     "execution_count": 11,
     "metadata": {},
     "output_type": "execute_result"
    }
   ],
   "source": [
    "accuracy(lmodel, loaders)"
   ]
  },
  {
   "cell_type": "code",
   "execution_count": 12,
   "id": "8e63dd6b",
   "metadata": {},
   "outputs": [
    {
     "name": "stderr",
     "output_type": "stream",
     "text": [
      "C:\\Users\\unknown\\Anaconda3\\envs\\xai4uc3\\lib\\site-packages\\captum\\_utils\\gradient.py:58: UserWarning: Input Tensor 0 did not already require gradients, required_grads has been set automatically.\n",
      "  \"required_grads has been set automatically.\" % index\n",
      "C:\\Users\\unknown\\Desktop\\xai_projects\\xai-learning-constraints\\metrics\\metrics.py:43: UserWarning: Implicit dimension choice for softmax has been deprecated. Change the call to include dim=X as an argument.\n",
      "  d = softm(model(images.cuda()*maskpos.cuda())).cpu().detach().numpy()[0,torch.argmax(softm(model(images.cuda())))]/torch.max(softm(model(images.cuda()))).cpu().detach().numpy()\n"
     ]
    }
   ],
   "source": [
    "bdrop = MoRF(bmodel, loaders, perc)"
   ]
  },
  {
   "cell_type": "code",
   "execution_count": 25,
   "id": "e4af8acf",
   "metadata": {},
   "outputs": [
    {
     "data": {
      "text/plain": [
       "0.7161640962999355"
      ]
     },
     "execution_count": 25,
     "metadata": {},
     "output_type": "execute_result"
    }
   ],
   "source": [
    "(1-bdrop).mean()"
   ]
  },
  {
   "cell_type": "code",
   "execution_count": 18,
   "id": "db89c0f7",
   "metadata": {},
   "outputs": [
    {
     "data": {
      "text/plain": [
       "[<matplotlib.lines.Line2D at 0x2520cef4788>]"
      ]
     },
     "execution_count": 18,
     "metadata": {},
     "output_type": "execute_result"
    },
    {
     "data": {
      "image/png": "[encoded data removed]",
      "text/plain": [
       "<Figure size 432x288 with 1 Axes>"
      ]
     },
     "metadata": {
      "needs_background": "light"
     },
     "output_type": "display_data"
    }
   ],
   "source": [
    "plt.plot(1-np.array(perc)/100, 1-bdrop, label=\"base\")"
   ]
  },
  {
   "cell_type": "code",
   "execution_count": 20,
   "id": "407a0ff8",
   "metadata": {},
   "outputs": [
    {
     "name": "stderr",
     "output_type": "stream",
     "text": [
      "C:\\Users\\unknown\\Anaconda3\\envs\\xai4uc3\\lib\\site-packages\\captum\\_utils\\gradient.py:58: UserWarning: Input Tensor 0 did not already require gradients, required_grads has been set automatically.\n",
      "  \"required_grads has been set automatically.\" % index\n",
      "C:\\Users\\unknown\\Desktop\\xai_projects\\xai-learning-constraints\\metrics\\metrics.py:43: UserWarning: Implicit dimension choice for softmax has been deprecated. Change the call to include dim=X as an argument.\n",
      "  d = softm(model(images.cuda()*maskpos.cuda())).cpu().detach().numpy()[0,torch.argmax(softm(model(images.cuda())))]/torch.max(softm(model(images.cuda()))).cpu().detach().numpy()\n"
     ]
    }
   ],
   "source": [
    "fdrop = MoRF(fmodel, loaders, perc)"
   ]
  },
  {
   "cell_type": "code",
   "execution_count": 21,
   "id": "fe132010",
   "metadata": {},
   "outputs": [
    {
     "data": {
      "text/plain": [
       "array([1.        , 0.50674842, 0.25129188, 0.12866436, 0.09791238,\n",
       "       0.09265428, 0.09221836, 0.09682799, 0.10317679, 0.1052548 ])"
      ]
     },
     "execution_count": 21,
     "metadata": {},
     "output_type": "execute_result"
    }
   ],
   "source": [
    "fdrop"
   ]
  },
  {
   "cell_type": "code",
   "execution_count": 26,
   "id": "4263329b",
   "metadata": {},
   "outputs": [
    {
     "data": {
      "text/plain": [
       "0.7525250730655276"
      ]
     },
     "execution_count": 26,
     "metadata": {},
     "output_type": "execute_result"
    }
   ],
   "source": [
    "(1-fdrop).mean()"
   ]
  },
  {
   "cell_type": "code",
   "execution_count": 27,
   "id": "0665f161",
   "metadata": {},
   "outputs": [
    {
     "name": "stderr",
     "output_type": "stream",
     "text": [
      "C:\\Users\\unknown\\Anaconda3\\envs\\xai4uc3\\lib\\site-packages\\captum\\_utils\\gradient.py:58: UserWarning: Input Tensor 0 did not already require gradients, required_grads has been set automatically.\n",
      "  \"required_grads has been set automatically.\" % index\n",
      "C:\\Users\\unknown\\Desktop\\xai_projects\\xai-learning-constraints\\metrics\\metrics.py:43: UserWarning: Implicit dimension choice for softmax has been deprecated. Change the call to include dim=X as an argument.\n",
      "  d = softm(model(images.cuda()*maskpos.cuda())).cpu().detach().numpy()[0,torch.argmax(softm(model(images.cuda())))]/torch.max(softm(model(images.cuda()))).cpu().detach().numpy()\n"
     ]
    }
   ],
   "source": [
    "ldrop = MoRF(lmodel, loaders, perc)"
   ]
  },
  {
   "cell_type": "code",
   "execution_count": 28,
   "id": "0ca06fa6",
   "metadata": {},
   "outputs": [
    {
     "data": {
      "text/plain": [
       "array([1.        , 0.23073961, 0.12547816, 0.12302051, 0.12209222,\n",
       "       0.12119196, 0.12021196, 0.11891745, 0.11723508, 0.11150064])"
      ]
     },
     "execution_count": 28,
     "metadata": {},
     "output_type": "execute_result"
    }
   ],
   "source": [
    "ldrop"
   ]
  },
  {
   "cell_type": "code",
   "execution_count": 29,
   "id": "cd63127f",
   "metadata": {},
   "outputs": [
    {
     "data": {
      "text/plain": [
       "0.7809612412835575"
      ]
     },
     "execution_count": 29,
     "metadata": {},
     "output_type": "execute_result"
    }
   ],
   "source": [
    "(1-ldrop).mean()"
   ]
  },
  {
   "cell_type": "code",
   "execution_count": 30,
   "id": "b4094b3a",
   "metadata": {},
   "outputs": [
    {
     "data": {
      "image/png": "[encoded data removed]",
      "text/plain": [
       "<Figure size 432x288 with 1 Axes>"
      ]
     },
     "metadata": {
      "needs_background": "light"
     },
     "output_type": "display_data"
    }
   ],
   "source": [
    "plt.plot(1-np.array(perc)/100, 1-bdrop, label=\"base\")\n",
    "plt.plot(1-np.array(perc)/100, 1-fdrop, label=\"fidelity\")\n",
    "plt.plot(1-np.array(perc)/100, 1-ldrop, label=\"locality\")\n",
    "plt.xlabel(\"perc removed\")\n",
    "plt.ylabel(\"model error\")\n",
    "plt.legend()\n",
    "plt.title(\"MoRF curve\")\n",
    "plt.savefig(r\"C:\\Users\\unknown\\Desktop\\repos\\explainability\\MoRF_v2.png\")\n",
    "plt.show()"
   ]
  },
  {
   "cell_type": "code",
   "execution_count": null,
   "id": "00fb615d",
   "metadata": {},
   "outputs": [],
   "source": []
  }
 ],
 "metadata": {
  "kernelspec": {
   "display_name": "Python [conda env:xai4uc3] *",
   "language": "python",
   "name": "conda-env-xai4uc3-py"
  },
  "language_info": {
   "codemirror_mode": {
    "name": "ipython",
    "version": 3
   },
   "file_extension": ".py",
   "mimetype": "text/x-python",
   "name": "python",
   "nbconvert_exporter": "python",
   "pygments_lexer": "ipython3",
   "version": "3.7.12"
  }
 },
 "nbformat": 4,
 "nbformat_minor": 5
}
