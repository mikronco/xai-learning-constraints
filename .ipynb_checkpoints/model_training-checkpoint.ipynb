{
 "cells": [
  {
   "cell_type": "code",
   "execution_count": 1,
   "id": "8c5ae8c7",
   "metadata": {},
   "outputs": [],
   "source": [
    "import numpy as np\n",
    "import matplotlib.pyplot as plt\n",
    "import torch\n",
    "from train import train_fidelity\n",
    "from models.mnist_cnn import CNN3b, CNN4b\n",
    "from loaders.mnist_loader import MNIST_data\n",
    "from torch.optim import Adam, Adadelta\n",
    "from losses.losses import FidelityConstraint\n",
    "from metrics.metrics import accuracy, MoRF"
   ]
  },
  {
   "cell_type": "code",
   "execution_count": 2,
   "id": "8341d074",
   "metadata": {},
   "outputs": [],
   "source": [
    "loaders = MNIST_data()"
   ]
  },
  {
   "cell_type": "code",
   "execution_count": 3,
   "id": "90d2c715",
   "metadata": {},
   "outputs": [
    {
     "name": "stdout",
     "output_type": "stream",
     "text": [
      "CUDA Available:  True\n"
     ]
    }
   ],
   "source": [
    "print(\"CUDA Available: \",torch.cuda.is_available())\n",
    "use_cuda=True\n",
    "device = torch.device(\"cuda\" if (use_cuda and torch.cuda.is_available()) else \"cpu\")"
   ]
  },
  {
   "cell_type": "code",
   "execution_count": 4,
   "id": "d1638d98",
   "metadata": {},
   "outputs": [],
   "source": [
    "model0 = CNN3b().to(device)"
   ]
  },
  {
   "cell_type": "code",
   "execution_count": 5,
   "id": "65fa01be",
   "metadata": {},
   "outputs": [],
   "source": [
    "model1 = CNN4b().to(device)"
   ]
  },
  {
   "cell_type": "code",
   "execution_count": 7,
   "id": "d3180bbb",
   "metadata": {},
   "outputs": [],
   "source": [
    "optimizer0 = Adam(model0.parameters(), lr = 0.01)   "
   ]
  },
  {
   "cell_type": "code",
   "execution_count": 8,
   "id": "ae50fc13",
   "metadata": {},
   "outputs": [],
   "source": [
    "optimizer1 = Adadelta(model1.parameters())   "
   ]
  },
  {
   "cell_type": "code",
   "execution_count": 9,
   "id": "6d7d084c",
   "metadata": {},
   "outputs": [
    {
     "name": "stderr",
     "output_type": "stream",
     "text": [
      "C:\\Users\\unknown\\Desktop\\xai_projects\\xai-learning-constraints\\losses\\losses.py:36: UserWarning: Implicit dimension choice for log_softmax has been deprecated. Change the call to include dim=X as an argument.\n",
      "  log_probabilities = self.log_softmax(outputs)\n"
     ]
    },
    {
     "name": "stdout",
     "output_type": "stream",
     "text": [
      "Epoch [1/5], Step [100/3000], Loss: 0.2389\n",
      "Epoch [1/5], Step [200/3000], Loss: 0.1812\n",
      "Epoch [1/5], Step [300/3000], Loss: 0.2614\n",
      "Epoch [1/5], Step [400/3000], Loss: 0.0592\n",
      "Epoch [1/5], Step [500/3000], Loss: 0.3716\n",
      "Epoch [1/5], Step [600/3000], Loss: 0.3016\n",
      "Epoch [1/5], Step [700/3000], Loss: 0.0359\n",
      "Epoch [1/5], Step [800/3000], Loss: 0.1141\n",
      "Epoch [1/5], Step [900/3000], Loss: 0.3860\n",
      "Epoch [1/5], Step [1000/3000], Loss: 0.1012\n",
      "Epoch [1/5], Step [1100/3000], Loss: 0.2805\n",
      "Epoch [1/5], Step [1200/3000], Loss: 0.2069\n",
      "Epoch [1/5], Step [1300/3000], Loss: 0.2550\n",
      "Epoch [1/5], Step [1400/3000], Loss: 0.0116\n",
      "Epoch [1/5], Step [1500/3000], Loss: 0.0036\n",
      "Epoch [1/5], Step [1600/3000], Loss: 0.4040\n",
      "Epoch [1/5], Step [1700/3000], Loss: 0.0168\n",
      "Epoch [1/5], Step [1800/3000], Loss: 0.5108\n",
      "Epoch [1/5], Step [1900/3000], Loss: 0.1589\n",
      "Epoch [1/5], Step [2000/3000], Loss: 0.0176\n",
      "Epoch [1/5], Step [2100/3000], Loss: 0.0039\n",
      "Epoch [1/5], Step [2200/3000], Loss: 0.0353\n",
      "Epoch [1/5], Step [2300/3000], Loss: 0.1365\n",
      "Epoch [1/5], Step [2400/3000], Loss: 0.1247\n",
      "Epoch [1/5], Step [2500/3000], Loss: 0.0340\n",
      "Epoch [1/5], Step [2600/3000], Loss: 0.1035\n",
      "Epoch [1/5], Step [2700/3000], Loss: 0.0180\n",
      "Epoch [1/5], Step [2800/3000], Loss: 0.0501\n",
      "Epoch [1/5], Step [2900/3000], Loss: 0.0090\n",
      "Epoch [1/5], Step [3000/3000], Loss: 0.0274\n",
      "Accuracy =  0.9461333333333334\n",
      "Epoch [2/5], Step [100/3000], Loss: 0.1004\n",
      "Epoch [2/5], Step [200/3000], Loss: 0.0078\n",
      "Epoch [2/5], Step [300/3000], Loss: 0.3181\n",
      "Epoch [2/5], Step [400/3000], Loss: 0.0176\n",
      "Epoch [2/5], Step [500/3000], Loss: 0.0100\n",
      "Epoch [2/5], Step [600/3000], Loss: 0.2087\n",
      "Epoch [2/5], Step [700/3000], Loss: 0.0271\n",
      "Epoch [2/5], Step [800/3000], Loss: 0.1285\n",
      "Epoch [2/5], Step [900/3000], Loss: 0.3737\n",
      "Epoch [2/5], Step [1000/3000], Loss: 0.0191\n",
      "Epoch [2/5], Step [1100/3000], Loss: 0.5958\n",
      "Epoch [2/5], Step [1200/3000], Loss: 0.0007\n",
      "Epoch [2/5], Step [1300/3000], Loss: 0.0433\n",
      "Epoch [2/5], Step [1400/3000], Loss: 0.0958\n",
      "Epoch [2/5], Step [1500/3000], Loss: 0.0145\n",
      "Epoch [2/5], Step [1600/3000], Loss: 0.0698\n",
      "Epoch [2/5], Step [1700/3000], Loss: 0.0029\n",
      "Epoch [2/5], Step [1800/3000], Loss: 0.1648\n",
      "Epoch [2/5], Step [1900/3000], Loss: 0.0116\n",
      "Epoch [2/5], Step [2000/3000], Loss: 0.1518\n",
      "Epoch [2/5], Step [2100/3000], Loss: 0.3937\n",
      "Epoch [2/5], Step [2200/3000], Loss: 0.0005\n",
      "Epoch [2/5], Step [2300/3000], Loss: 0.1214\n",
      "Epoch [2/5], Step [2400/3000], Loss: 0.2043\n",
      "Epoch [2/5], Step [2500/3000], Loss: 0.0073\n",
      "Epoch [2/5], Step [2600/3000], Loss: 0.0057\n",
      "Epoch [2/5], Step [2700/3000], Loss: 0.0687\n",
      "Epoch [2/5], Step [2800/3000], Loss: 0.0852\n",
      "Epoch [2/5], Step [2900/3000], Loss: 0.0238\n",
      "Epoch [2/5], Step [3000/3000], Loss: 0.0147\n",
      "Accuracy =  0.9677\n",
      "Epoch [3/5], Step [100/3000], Loss: 0.1986\n",
      "Epoch [3/5], Step [200/3000], Loss: 0.3310\n",
      "Epoch [3/5], Step [300/3000], Loss: 0.0026\n",
      "Epoch [3/5], Step [400/3000], Loss: 0.5419\n",
      "Epoch [3/5], Step [500/3000], Loss: 0.0285\n",
      "Epoch [3/5], Step [600/3000], Loss: 0.0077\n",
      "Epoch [3/5], Step [700/3000], Loss: 0.0022\n",
      "Epoch [3/5], Step [800/3000], Loss: 0.0015\n",
      "Epoch [3/5], Step [900/3000], Loss: 0.0597\n",
      "Epoch [3/5], Step [1000/3000], Loss: 0.0109\n",
      "Epoch [3/5], Step [1100/3000], Loss: 0.0824\n",
      "Epoch [3/5], Step [1200/3000], Loss: 0.2083\n",
      "Epoch [3/5], Step [1300/3000], Loss: 0.0004\n",
      "Epoch [3/5], Step [1400/3000], Loss: 0.0112\n",
      "Epoch [3/5], Step [1500/3000], Loss: 0.0302\n",
      "Epoch [3/5], Step [1600/3000], Loss: 0.0860\n",
      "Epoch [3/5], Step [1700/3000], Loss: 0.0174\n",
      "Epoch [3/5], Step [1800/3000], Loss: 0.0180\n",
      "Epoch [3/5], Step [1900/3000], Loss: 0.0038\n",
      "Epoch [3/5], Step [2000/3000], Loss: 0.0065\n",
      "Epoch [3/5], Step [2100/3000], Loss: 0.1105\n",
      "Epoch [3/5], Step [2200/3000], Loss: 0.0013\n",
      "Epoch [3/5], Step [2300/3000], Loss: 0.0039\n",
      "Epoch [3/5], Step [2400/3000], Loss: 0.0069\n",
      "Epoch [3/5], Step [2500/3000], Loss: 0.0010\n",
      "Epoch [3/5], Step [2600/3000], Loss: 0.2205\n",
      "Epoch [3/5], Step [2700/3000], Loss: 0.0012\n",
      "Epoch [3/5], Step [2800/3000], Loss: 0.1299\n",
      "Epoch [3/5], Step [2900/3000], Loss: 0.0388\n",
      "Epoch [3/5], Step [3000/3000], Loss: 0.0005\n",
      "Accuracy =  0.9712833333333334\n",
      "Epoch [4/5], Step [100/3000], Loss: 0.0011\n",
      "Epoch [4/5], Step [200/3000], Loss: 0.0513\n",
      "Epoch [4/5], Step [300/3000], Loss: 0.0057\n",
      "Epoch [4/5], Step [400/3000], Loss: 0.2052\n",
      "Epoch [4/5], Step [500/3000], Loss: 0.0282\n",
      "Epoch [4/5], Step [600/3000], Loss: 0.1188\n",
      "Epoch [4/5], Step [700/3000], Loss: 0.0013\n",
      "Epoch [4/5], Step [800/3000], Loss: 0.0911\n",
      "Epoch [4/5], Step [900/3000], Loss: 0.0070\n",
      "Epoch [4/5], Step [1000/3000], Loss: 0.6229\n",
      "Epoch [4/5], Step [1100/3000], Loss: 0.2198\n",
      "Epoch [4/5], Step [1200/3000], Loss: 0.0036\n",
      "Epoch [4/5], Step [1300/3000], Loss: 0.0065\n",
      "Epoch [4/5], Step [1400/3000], Loss: 0.2129\n",
      "Epoch [4/5], Step [1500/3000], Loss: 0.5754\n",
      "Epoch [4/5], Step [1600/3000], Loss: 0.0021\n",
      "Epoch [4/5], Step [1700/3000], Loss: 0.0038\n",
      "Epoch [4/5], Step [1800/3000], Loss: 0.2094\n",
      "Epoch [4/5], Step [1900/3000], Loss: 0.0196\n",
      "Epoch [4/5], Step [2000/3000], Loss: 0.3436\n",
      "Epoch [4/5], Step [2100/3000], Loss: 0.4691\n",
      "Epoch [4/5], Step [2200/3000], Loss: 0.0281\n",
      "Epoch [4/5], Step [2300/3000], Loss: 0.0030\n",
      "Epoch [4/5], Step [2400/3000], Loss: 0.0248\n",
      "Epoch [4/5], Step [2500/3000], Loss: 0.0131\n",
      "Epoch [4/5], Step [2600/3000], Loss: 0.0094\n",
      "Epoch [4/5], Step [2700/3000], Loss: 0.0065\n",
      "Epoch [4/5], Step [2800/3000], Loss: 0.0020\n",
      "Epoch [4/5], Step [2900/3000], Loss: 0.0198\n",
      "Epoch [4/5], Step [3000/3000], Loss: 0.1894\n",
      "Accuracy =  0.97115\n",
      "Epoch [5/5], Step [100/3000], Loss: 0.0000\n",
      "Epoch [5/5], Step [200/3000], Loss: 0.0045\n",
      "Epoch [5/5], Step [300/3000], Loss: 0.0199\n",
      "Epoch [5/5], Step [400/3000], Loss: 0.2145\n",
      "Epoch [5/5], Step [500/3000], Loss: 0.0215\n",
      "Epoch [5/5], Step [600/3000], Loss: 0.0002\n",
      "Epoch [5/5], Step [700/3000], Loss: 0.1007\n",
      "Epoch [5/5], Step [800/3000], Loss: 0.0983\n",
      "Epoch [5/5], Step [900/3000], Loss: 0.0085\n",
      "Epoch [5/5], Step [1000/3000], Loss: 0.0066\n",
      "Epoch [5/5], Step [1100/3000], Loss: 0.0014\n",
      "Epoch [5/5], Step [1200/3000], Loss: 0.2001\n",
      "Epoch [5/5], Step [1300/3000], Loss: 0.0392\n",
      "Epoch [5/5], Step [1400/3000], Loss: 0.0090\n",
      "Epoch [5/5], Step [1500/3000], Loss: 0.0081\n",
      "Epoch [5/5], Step [1600/3000], Loss: 0.1544\n",
      "Epoch [5/5], Step [1700/3000], Loss: 0.1648\n",
      "Epoch [5/5], Step [1800/3000], Loss: 0.0816\n",
      "Epoch [5/5], Step [1900/3000], Loss: 0.0144\n",
      "Epoch [5/5], Step [2000/3000], Loss: 0.3413\n",
      "Epoch [5/5], Step [2100/3000], Loss: 0.0005\n",
      "Epoch [5/5], Step [2200/3000], Loss: 0.0359\n",
      "Epoch [5/5], Step [2300/3000], Loss: 0.0422\n",
      "Epoch [5/5], Step [2400/3000], Loss: 0.0102\n",
      "Epoch [5/5], Step [2500/3000], Loss: 0.0044\n",
      "Epoch [5/5], Step [2600/3000], Loss: 0.0006\n",
      "Epoch [5/5], Step [2700/3000], Loss: 0.0820\n",
      "Epoch [5/5], Step [2800/3000], Loss: 0.0048\n",
      "Epoch [5/5], Step [2900/3000], Loss: 0.0149\n",
      "Epoch [5/5], Step [3000/3000], Loss: 0.4665\n",
      "Accuracy =  0.9718\n"
     ]
    }
   ],
   "source": [
    "acc0, loss0 = train_fidelity(model0, loaders, 5, optimizer0, FidelityConstraint())"
   ]
  },
  {
   "cell_type": "code",
   "execution_count": null,
   "id": "b8752de7",
   "metadata": {},
   "outputs": [
    {
     "name": "stdout",
     "output_type": "stream",
     "text": [
      "Epoch [1/5], Step [100/3000], Loss: 0.7055\n",
      "Epoch [1/5], Step [200/3000], Loss: 0.3592\n",
      "Epoch [1/5], Step [300/3000], Loss: 0.1565\n",
      "Epoch [1/5], Step [400/3000], Loss: 0.4642\n",
      "Epoch [1/5], Step [500/3000], Loss: 0.0919\n",
      "Epoch [1/5], Step [600/3000], Loss: 0.0820\n",
      "Epoch [1/5], Step [700/3000], Loss: 0.1487\n",
      "Epoch [1/5], Step [800/3000], Loss: 0.0777\n",
      "Epoch [1/5], Step [900/3000], Loss: 0.1611\n",
      "Epoch [1/5], Step [1000/3000], Loss: 0.1045\n",
      "Epoch [1/5], Step [1100/3000], Loss: 0.1110\n",
      "Epoch [1/5], Step [1200/3000], Loss: 0.0061\n",
      "Epoch [1/5], Step [1300/3000], Loss: 0.0700\n",
      "Epoch [1/5], Step [1400/3000], Loss: 0.3298\n",
      "Epoch [1/5], Step [1500/3000], Loss: 0.1320\n",
      "Epoch [1/5], Step [1600/3000], Loss: 0.0357\n",
      "Epoch [1/5], Step [1700/3000], Loss: 0.9220\n"
     ]
    }
   ],
   "source": [
    "acc1, loss1 = train_fidelity(model1, loaders, 5, optimizer1, FidelityConstraint())"
   ]
  },
  {
   "cell_type": "code",
   "execution_count": null,
   "id": "052c9396",
   "metadata": {},
   "outputs": [],
   "source": [
    "accuracy(model0,loaders)"
   ]
  },
  {
   "cell_type": "code",
   "execution_count": null,
   "id": "c093ad1e",
   "metadata": {},
   "outputs": [],
   "source": [
    "accuracy(model1,loaders)"
   ]
  },
  {
   "cell_type": "code",
   "execution_count": null,
   "id": "b643692f",
   "metadata": {},
   "outputs": [],
   "source": [
    "perc = list(sorted(np.linspace(0, 100, num=10).astype(int), reverse=True))"
   ]
  },
  {
   "cell_type": "code",
   "execution_count": null,
   "id": "a2d110dd",
   "metadata": {},
   "outputs": [],
   "source": [
    "drop0 = MoRF(model0, loaders, perc)"
   ]
  },
  {
   "cell_type": "code",
   "execution_count": null,
   "id": "8abeaaa8",
   "metadata": {},
   "outputs": [],
   "source": [
    "drop1 = MoRF(model1, loaders, perc)"
   ]
  },
  {
   "cell_type": "code",
   "execution_count": null,
   "id": "317ede5a",
   "metadata": {},
   "outputs": [],
   "source": [
    "plt.plot(1-np.array(perc)/100, 1-drop0, label=\"3b_adam\")\n",
    "plt.plot(1-np.array(perc)/100, 1-drop1, label=\"4b_adadelta\")\n",
    "plt.legend()\n",
    "plt.show()"
   ]
  },
  {
   "cell_type": "code",
   "execution_count": null,
   "id": "e20672ce",
   "metadata": {},
   "outputs": [],
   "source": []
  }
 ],
 "metadata": {
  "kernelspec": {
   "display_name": "Python [conda env:xai4uc3] *",
   "language": "python",
   "name": "conda-env-xai4uc3-py"
  },
  "language_info": {
   "codemirror_mode": {
    "name": "ipython",
    "version": 3
   },
   "file_extension": ".py",
   "mimetype": "text/x-python",
   "name": "python",
   "nbconvert_exporter": "python",
   "pygments_lexer": "ipython3",
   "version": "3.7.12"
  }
 },
 "nbformat": 4,
 "nbformat_minor": 5
}
